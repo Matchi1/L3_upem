{
 "cells": [
  {
   "cell_type": "code",
   "execution_count": 2,
   "metadata": {},
   "outputs": [
    {
     "data": {
      "text/plain": [
       "(x, t)"
      ]
     },
     "execution_count": 2,
     "metadata": {},
     "output_type": "execute_result"
    }
   ],
   "source": [
    "# Exemple de calcul\n",
    "from sympy import *\n",
    "from sympy import bernoulli\n",
    "var('x t')"
   ]
  },
  {
   "cell_type": "code",
   "execution_count": 3,
   "metadata": {},
   "outputs": [
    {
     "data": {
      "text/latex": [
       "$\\displaystyle \\operatorname{Poly}{\\left( \\left(\\frac{t^{8}}{40320} + \\frac{t^{7}}{1440} + \\frac{19 t^{6}}{2880} + \\frac{5 t^{5}}{192} + \\frac{27 t^{4}}{640} + \\frac{23 t^{3}}{960} + \\frac{127 t^{2}}{40320} + \\frac{t}{40320}\\right) x^{8} + \\left(\\frac{t^{7}}{5040} + \\frac{t^{6}}{240} + \\frac{t^{5}}{36} + \\frac{5 t^{4}}{72} + \\frac{43 t^{3}}{720} + \\frac{t^{2}}{80} + \\frac{t}{5040}\\right) x^{7} + \\left(\\frac{t^{6}}{720} + \\frac{t^{5}}{48} + \\frac{13 t^{4}}{144} + \\frac{t^{3}}{8} + \\frac{31 t^{2}}{720} + \\frac{t}{720}\\right) x^{6} + \\left(\\frac{t^{5}}{120} + \\frac{t^{4}}{12} + \\frac{5 t^{3}}{24} + \\frac{t^{2}}{8} + \\frac{t}{120}\\right) x^{5} + \\left(\\frac{t^{4}}{24} + \\frac{t^{3}}{4} + \\frac{7 t^{2}}{24} + \\frac{t}{24}\\right) x^{4} + \\left(\\frac{t^{3}}{6} + \\frac{t^{2}}{2} + \\frac{t}{6}\\right) x^{3} + \\left(\\frac{t^{2}}{2} + \\frac{t}{2}\\right) x^{2} + t x + 1, x, domain=\\mathbb{Q}\\left[t\\right] \\right)}$"
      ],
      "text/plain": [
       "Poly((t**8/40320 + t**7/1440 + 19*t**6/2880 + 5*t**5/192 + 27*t**4/640 + 23*t**3/960 + 127*t**2/40320 + t/40320)*x**8 + (t**7/5040 + t**6/240 + t**5/36 + 5*t**4/72 + 43*t**3/720 + t**2/80 + t/5040)*x**7 + (t**6/720 + t**5/48 + 13*t**4/144 + t**3/8 + 31*t**2/720 + t/720)*x**6 + (t**5/120 + t**4/12 + 5*t**3/24 + t**2/8 + t/120)*x**5 + (t**4/24 + t**3/4 + 7*t**2/24 + t/24)*x**4 + (t**3/6 + t**2/2 + t/6)*x**3 + (t**2/2 + t/2)*x**2 + t*x + 1, x, domain='QQ[t]')"
      ]
     },
     "execution_count": 3,
     "metadata": {},
     "output_type": "execute_result"
    }
   ],
   "source": [
    "#Polynômes de Bell\n",
    "poly_bell = exp(t*(exp(x) - 1))\n",
    "pb = series(poly_bell,x,0,9).removeO().as_poly(x); pb"
   ]
  },
  {
   "cell_type": "code",
   "execution_count": 4,
   "metadata": {},
   "outputs": [
    {
     "data": {
      "text/plain": [
       "[1,\n",
       " t,\n",
       " t**2/2 + t/2,\n",
       " t**3/6 + t**2/2 + t/6,\n",
       " t**4/24 + t**3/4 + 7*t**2/24 + t/24,\n",
       " t**5/120 + t**4/12 + 5*t**3/24 + t**2/8 + t/120,\n",
       " t**6/720 + t**5/48 + 13*t**4/144 + t**3/8 + 31*t**2/720 + t/720,\n",
       " t**7/5040 + t**6/240 + t**5/36 + 5*t**4/72 + 43*t**3/720 + t**2/80 + t/5040,\n",
       " t**8/40320 + t**7/1440 + 19*t**6/2880 + 5*t**5/192 + 27*t**4/640 + 23*t**3/960 + 127*t**2/40320 + t/40320]"
      ]
     },
     "execution_count": 4,
     "metadata": {},
     "output_type": "execute_result"
    }
   ],
   "source": [
    "pbb = pb.all_coeffs()[::-1]; pbb"
   ]
  },
  {
   "cell_type": "code",
   "execution_count": 5,
   "metadata": {},
   "outputs": [
    {
     "data": {
      "text/plain": [
       "[1,\n",
       " t,\n",
       " t**2 + t,\n",
       " t**3 + 3*t**2 + t,\n",
       " t**4 + 6*t**3 + 7*t**2 + t,\n",
       " t**5 + 10*t**4 + 25*t**3 + 15*t**2 + t,\n",
       " t**6 + 15*t**5 + 65*t**4 + 90*t**3 + 31*t**2 + t,\n",
       " t**7 + 21*t**6 + 140*t**5 + 350*t**4 + 301*t**3 + 63*t**2 + t,\n",
       " t**8 + 28*t**7 + 266*t**6 + 1050*t**5 + 1701*t**4 + 966*t**3 + 127*t**2 + t]"
      ]
     },
     "execution_count": 5,
     "metadata": {},
     "output_type": "execute_result"
    }
   ],
   "source": [
    "[pbb[i]*factorial(i) for i in range(len(pbb))]"
   ]
  },
  {
   "cell_type": "code",
   "execution_count": 6,
   "metadata": {
    "scrolled": true
   },
   "outputs": [
    {
     "name": "stdout",
     "output_type": "stream",
     "text": [
      "[1]\n",
      "[1, 0]\n",
      "[1, 1, 0]\n",
      "[1, 3, 1, 0]\n",
      "[1, 6, 7, 1, 0]\n",
      "[1, 10, 25, 15, 1, 0]\n",
      "[1, 15, 65, 90, 31, 1, 0]\n",
      "[1, 21, 140, 350, 301, 63, 1, 0]\n",
      "[1, 28, 266, 1050, 1701, 966, 127, 1, 0]\n"
     ]
    }
   ],
   "source": [
    "# Triangle de Stirling2\n",
    "for p in _: print (p.as_poly(t).all_coeffs())"
   ]
  },
  {
   "cell_type": "code",
   "execution_count": 7,
   "metadata": {},
   "outputs": [],
   "source": [
    "def S(n, k):\n",
    "    if(n == 0 and k == 0):\n",
    "        return 1\n",
    "    if(n < 0 or k < 0):\n",
    "        return 0\n",
    "    return S(n - 1, k - 1) + k*S(n - 1, k)"
   ]
  },
  {
   "cell_type": "code",
   "execution_count": 8,
   "metadata": {},
   "outputs": [
    {
     "name": "stdout",
     "output_type": "stream",
     "text": [
      "1 \n",
      "0 1 \n",
      "0 1 1 \n",
      "0 1 3 1 \n",
      "0 1 7 6 1 \n",
      "0 1 15 25 10 1 \n",
      "0 1 31 90 65 15 1 \n",
      "0 1 63 301 350 140 21 1 \n",
      "0 1 127 966 1701 1050 266 28 1 \n",
      "0 1 255 3025 7770 6951 2646 462 36 1 \n"
     ]
    }
   ],
   "source": [
    "for n in  range(10):\n",
    "    for k in range(n+1): \n",
    "        print (S(n,k), end=' ')\n",
    "    print ()"
   ]
  },
  {
   "cell_type": "code",
   "execution_count": 9,
   "metadata": {},
   "outputs": [
    {
     "data": {
      "text/latex": [
       "$\\displaystyle \\operatorname{Poly}{\\left( \\left(\\frac{t^{8}}{40320} - \\frac{t^{7}}{1440} + \\frac{23 t^{6}}{2880} - \\frac{7 t^{5}}{144} + \\frac{967 t^{4}}{5760} - \\frac{469 t^{3}}{1440} + \\frac{363 t^{2}}{1120} - \\frac{t}{8}\\right) x^{8} + \\left(\\frac{t^{7}}{5040} - \\frac{t^{6}}{240} + \\frac{5 t^{5}}{144} - \\frac{7 t^{4}}{48} + \\frac{29 t^{3}}{90} - \\frac{7 t^{2}}{20} + \\frac{t}{7}\\right) x^{7} + \\left(\\frac{t^{6}}{720} - \\frac{t^{5}}{48} + \\frac{17 t^{4}}{144} - \\frac{5 t^{3}}{16} + \\frac{137 t^{2}}{360} - \\frac{t}{6}\\right) x^{6} + \\left(\\frac{t^{5}}{120} - \\frac{t^{4}}{12} + \\frac{7 t^{3}}{24} - \\frac{5 t^{2}}{12} + \\frac{t}{5}\\right) x^{5} + \\left(\\frac{t^{4}}{24} - \\frac{t^{3}}{4} + \\frac{11 t^{2}}{24} - \\frac{t}{4}\\right) x^{4} + \\left(\\frac{t^{3}}{6} - \\frac{t^{2}}{2} + \\frac{t}{3}\\right) x^{3} + \\left(\\frac{t^{2}}{2} - \\frac{t}{2}\\right) x^{2} + t x + 1, x, domain=\\mathbb{Q}\\left[t\\right] \\right)}$"
      ],
      "text/plain": [
       "Poly((t**8/40320 - t**7/1440 + 23*t**6/2880 - 7*t**5/144 + 967*t**4/5760 - 469*t**3/1440 + 363*t**2/1120 - t/8)*x**8 + (t**7/5040 - t**6/240 + 5*t**5/144 - 7*t**4/48 + 29*t**3/90 - 7*t**2/20 + t/7)*x**7 + (t**6/720 - t**5/48 + 17*t**4/144 - 5*t**3/16 + 137*t**2/360 - t/6)*x**6 + (t**5/120 - t**4/12 + 7*t**3/24 - 5*t**2/12 + t/5)*x**5 + (t**4/24 - t**3/4 + 11*t**2/24 - t/4)*x**4 + (t**3/6 - t**2/2 + t/3)*x**3 + (t**2/2 - t/2)*x**2 + t*x + 1, x, domain='QQ[t]')"
      ]
     },
     "execution_count": 9,
     "metadata": {},
     "output_type": "execute_result"
    }
   ],
   "source": [
    "#Polynomes de Stirling1\n",
    "stirling1 = (1 + x)**t\n",
    "s = series(stirling1,x,0,9).removeO().as_poly(x); s"
   ]
  },
  {
   "cell_type": "code",
   "execution_count": 10,
   "metadata": {},
   "outputs": [
    {
     "data": {
      "text/plain": [
       "[1,\n",
       " t,\n",
       " t**2/2 - t/2,\n",
       " t**3/6 - t**2/2 + t/3,\n",
       " t**4/24 - t**3/4 + 11*t**2/24 - t/4,\n",
       " t**5/120 - t**4/12 + 7*t**3/24 - 5*t**2/12 + t/5,\n",
       " t**6/720 - t**5/48 + 17*t**4/144 - 5*t**3/16 + 137*t**2/360 - t/6,\n",
       " t**7/5040 - t**6/240 + 5*t**5/144 - 7*t**4/48 + 29*t**3/90 - 7*t**2/20 + t/7,\n",
       " t**8/40320 - t**7/1440 + 23*t**6/2880 - 7*t**5/144 + 967*t**4/5760 - 469*t**3/1440 + 363*t**2/1120 - t/8]"
      ]
     },
     "execution_count": 10,
     "metadata": {},
     "output_type": "execute_result"
    }
   ],
   "source": [
    "ss = s.all_coeffs()[::-1]; ss"
   ]
  },
  {
   "cell_type": "code",
   "execution_count": 11,
   "metadata": {},
   "outputs": [
    {
     "data": {
      "text/plain": [
       "[1,\n",
       " t,\n",
       " t**2 - t,\n",
       " t**3 - 3*t**2 + 2*t,\n",
       " t**4 - 6*t**3 + 11*t**2 - 6*t,\n",
       " t**5 - 10*t**4 + 35*t**3 - 50*t**2 + 24*t,\n",
       " t**6 - 15*t**5 + 85*t**4 - 225*t**3 + 274*t**2 - 120*t,\n",
       " t**7 - 21*t**6 + 175*t**5 - 735*t**4 + 1624*t**3 - 1764*t**2 + 720*t,\n",
       " t**8 - 28*t**7 + 322*t**6 - 1960*t**5 + 6769*t**4 - 13132*t**3 + 13068*t**2 - 5040*t]"
      ]
     },
     "execution_count": 11,
     "metadata": {},
     "output_type": "execute_result"
    }
   ],
   "source": [
    "[ss[i]*factorial(i) for i in range(len(ss))]"
   ]
  },
  {
   "cell_type": "code",
   "execution_count": 12,
   "metadata": {},
   "outputs": [
    {
     "name": "stdout",
     "output_type": "stream",
     "text": [
      "[1]\n",
      "[1, 0]\n",
      "[1, -1, 0]\n",
      "[1, -3, 2, 0]\n",
      "[1, -6, 11, -6, 0]\n",
      "[1, -10, 35, -50, 24, 0]\n",
      "[1, -15, 85, -225, 274, -120, 0]\n",
      "[1, -21, 175, -735, 1624, -1764, 720, 0]\n",
      "[1, -28, 322, -1960, 6769, -13132, 13068, -5040, 0]\n"
     ]
    }
   ],
   "source": [
    "#Triangle de Stirling1\n",
    "for p in _: print (p.as_poly(t).all_coeffs())"
   ]
  },
  {
   "cell_type": "code",
   "execution_count": 13,
   "metadata": {},
   "outputs": [],
   "source": [
    "def s(n, k):\n",
    "    if(n == 0 and k == 0):\n",
    "        return 1\n",
    "    if(n < 0 or k < 0):\n",
    "        return 0\n",
    "    return s(n - 1, k - 1) - (n - 1)*s(n - 1, k)"
   ]
  },
  {
   "cell_type": "code",
   "execution_count": 14,
   "metadata": {
    "scrolled": false
   },
   "outputs": [
    {
     "name": "stdout",
     "output_type": "stream",
     "text": [
      "1 \n",
      "0 1 \n",
      "0 -1 1 \n",
      "0 2 -3 1 \n",
      "0 -6 11 -6 1 \n",
      "0 24 -50 35 -10 1 \n",
      "0 -120 274 -225 85 -15 1 \n",
      "0 720 -1764 1624 -735 175 -21 1 \n",
      "0 -5040 13068 -13132 6769 -1960 322 -28 1 \n",
      "0 40320 -109584 118124 -67284 22449 -4536 546 -36 1 \n"
     ]
    }
   ],
   "source": [
    "for n in  range(10):\n",
    "    for k in range(n+1): \n",
    "        print (s(n,k), end=' ')\n",
    "    print ()"
   ]
  },
  {
   "cell_type": "code",
   "execution_count": 15,
   "metadata": {},
   "outputs": [],
   "source": [
    "def T(n):\n",
    "    if(n == 1):\n",
    "        return t;\n",
    "    return T(n - 1)*(t - n + 1)\n",
    "\n",
    "def sumpow(p):\n",
    "    expr = 0\n",
    "    for j in range(1, p + 1):\n",
    "        expr += S(p, j) * T(j + 1)/(j + 1)\n",
    "    return simplify(expand(expr))"
   ]
  },
  {
   "cell_type": "code",
   "execution_count": 16,
   "metadata": {},
   "outputs": [
    {
     "name": "stdout",
     "output_type": "stream",
     "text": [
      "t*(t - 1)/2\n",
      "t*(2*t**2 - 3*t + 1)/6\n",
      "t**2*(t**2 - 2*t + 1)/4\n",
      "t**5/5 - t**4/2 + t**3/3 - t/30\n"
     ]
    }
   ],
   "source": [
    "for p in range(1,5): print (sumpow(p))"
   ]
  },
  {
   "cell_type": "code",
   "execution_count": 17,
   "metadata": {},
   "outputs": [
    {
     "data": {
      "text/latex": [
       "$\\displaystyle \\operatorname{Poly}{\\left( \\frac{1}{5} t^{5} -  \\frac{1}{2} t^{4} + \\frac{1}{3} t^{3} -  \\frac{1}{30} t, t, domain=\\mathbb{Q} \\right)}$"
      ],
      "text/plain": [
       "Poly(1/5*t**5 - 1/2*t**4 + 1/3*t**3 - 1/30*t, t, domain='QQ')"
      ]
     },
     "execution_count": 17,
     "metadata": {},
     "output_type": "execute_result"
    }
   ],
   "source": [
    "# Un test\n",
    "S4 = (sumpow(4)).as_poly()\n",
    "S4"
   ]
  },
  {
   "cell_type": "code",
   "execution_count": 18,
   "metadata": {},
   "outputs": [
    {
     "name": "stdout",
     "output_type": "stream",
     "text": [
      "0 0\n",
      "1 1\n",
      "17 17\n",
      "98 98\n",
      "354 354\n",
      "979 979\n",
      "2275 2275\n",
      "4676 4676\n",
      "8772 8772\n"
     ]
    }
   ],
   "source": [
    "# Un petit test pour voir\n",
    "\n",
    "for n in range(1,10): \n",
    "    print (sum([k**4 for k in range(n)]), S4.eval(n))"
   ]
  },
  {
   "cell_type": "code",
   "execution_count": 19,
   "metadata": {},
   "outputs": [
    {
     "data": {
      "text/latex": [
       "$\\displaystyle \\operatorname{Poly}{\\left( \\left(\\frac{t^{4}}{24} - \\frac{t^{3}}{12} + \\frac{t^{2}}{24} - \\frac{1}{720}\\right) x^{4} + \\left(\\frac{t^{3}}{6} - \\frac{t^{2}}{4} + \\frac{t}{12}\\right) x^{3} + \\left(\\frac{t^{2}}{2} - \\frac{t}{2} + \\frac{1}{12}\\right) x^{2} + \\left(t - \\frac{1}{2}\\right) x + 1, x, domain=\\mathbb{Q}\\left[t\\right] \\right)}$"
      ],
      "text/plain": [
       "Poly((t**4/24 - t**3/12 + t**2/24 - 1/720)*x**4 + (t**3/6 - t**2/4 + t/12)*x**3 + (t**2/2 - t/2 + 1/12)*x**2 + (t - 1/2)*x + 1, x, domain='QQ[t]')"
      ]
     },
     "execution_count": 19,
     "metadata": {},
     "output_type": "execute_result"
    }
   ],
   "source": [
    "#polynômes de Bernoulli\n",
    "bern = (x*exp(t*x)/(exp(x) - 1))\n",
    "b = series(bern,x,0,5).removeO().as_poly(x); b"
   ]
  },
  {
   "cell_type": "code",
   "execution_count": 50,
   "metadata": {},
   "outputs": [
    {
     "name": "stdout",
     "output_type": "stream",
     "text": [
      "t\n",
      "t*(t - 1)/2\n",
      "t*(2*t**2 - 3*t + 1)/6\n",
      "t**2*(t**2 - 2*t + 1)/4\n",
      "t**5/5 - t**4/2 + t**3/3 - t/30\n",
      "t**2*(2*t**4 - 6*t**3 + 5*t**2 - 1)/12\n",
      "t**7/7 - t**6/2 + t**5/2 - t**3/6 + t/42\n",
      "t**2*(3*t**6 - 12*t**5 + 14*t**4 - 7*t**2 + 2)/24\n"
     ]
    }
   ],
   "source": [
    "bb = {0:Rational(1)}\n",
    "def B(n):\n",
    "    if n in bb: return bb[n]\n",
    "    else: \n",
    "        bb[n]= (bernoulli(n, t) - bernoulli(n)) / n\n",
    "        return simplify(expand(bb[n]))\n",
    "    \n",
    "for i in range(1, 9):\n",
    "    print(B(i))"
   ]
  },
  {
   "cell_type": "code",
   "execution_count": 53,
   "metadata": {},
   "outputs": [
    {
     "data": {
      "text/latex": [
       "$\\displaystyle \\operatorname{Poly}{\\left( \\frac{1}{4} t^{4} -  \\frac{1}{2} t^{3} + \\frac{1}{4} t^{2}, t, domain=\\mathbb{Q} \\right)}$"
      ],
      "text/plain": [
       "Poly(1/4*t**4 - 1/2*t**3 + 1/4*t**2, t, domain='QQ')"
      ]
     },
     "execution_count": 53,
     "metadata": {},
     "output_type": "execute_result"
    }
   ],
   "source": [
    "S3 = (B(4)).as_poly(); S3"
   ]
  },
  {
   "cell_type": "code",
   "execution_count": 54,
   "metadata": {},
   "outputs": [
    {
     "name": "stdout",
     "output_type": "stream",
     "text": [
      "0 0\n",
      "1 1\n",
      "9 9\n",
      "36 36\n",
      "100 100\n",
      "225 225\n",
      "441 441\n",
      "784 784\n",
      "1296 1296\n"
     ]
    }
   ],
   "source": [
    "for n in range(1, 10):\n",
    "    print(sum([k**3 for k in range(n)]), S3.eval(n))"
   ]
  },
  {
   "cell_type": "code",
   "execution_count": null,
   "metadata": {},
   "outputs": [],
   "source": []
  }
 ],
 "metadata": {
  "kernelspec": {
   "display_name": "Python 3",
   "language": "python",
   "name": "python3"
  },
  "language_info": {
   "codemirror_mode": {
    "name": "ipython",
    "version": 3
   },
   "file_extension": ".py",
   "mimetype": "text/x-python",
   "name": "python",
   "nbconvert_exporter": "python",
   "pygments_lexer": "ipython3",
   "version": "3.8.3"
  }
 },
 "nbformat": 4,
 "nbformat_minor": 4
}
