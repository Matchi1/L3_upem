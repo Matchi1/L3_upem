{
 "cells": [
  {
   "cell_type": "code",
   "execution_count": 4,
   "metadata": {},
   "outputs": [],
   "source": [
    "import re\n",
    "pat = re.compile(r'((\\w)\\*\\*(\\d+))')\n",
    "\n",
    "def mon2word(w):\n",
    "    return pat.sub(lambda x: x.group(2)*int(x.group(3)),str(w)).replace('*','')"
   ]
  },
  {
   "cell_type": "code",
   "execution_count": 5,
   "metadata": {},
   "outputs": [
    {
     "data": {
      "text/latex": [
       "$\\displaystyle a b a b a b + a b a^{2} b^{2} + a^{2} b a b^{2} + a^{2} b^{2} a b + a^{3} b^{3}$"
      ],
      "text/plain": [
       "a*b*a*b*a*b + a*b*a**2*b**2 + a**2*b*a*b**2 + a**2*b**2*a*b + a**3*b**3"
      ]
     },
     "execution_count": 5,
     "metadata": {},
     "output_type": "execute_result"
    }
   ],
   "source": [
    "from sympy import *\n",
    "\n",
    "a,b = symbols('a,b', commutative = False)\n",
    "dd = {0:1, 1:a*b}\n",
    "def dyck(n):\n",
    "    if n in dd: return dd[n]\n",
    "    dd[n] = expand(sum([a*dyck(i)*b*dyck(n-1-i) for i in range(n)]))\n",
    "    return dd[n]\n",
    "\n",
    "dyck(0)\n",
    "dyck(3)"
   ]
  },
  {
   "cell_type": "code",
   "execution_count": 6,
   "metadata": {},
   "outputs": [],
   "source": [
    "D4 = dyck(4).as_ordered_terms()"
   ]
  },
  {
   "cell_type": "code",
   "execution_count": 7,
   "metadata": {},
   "outputs": [
    {
     "name": "stdout",
     "output_type": "stream",
     "text": [
      "['abababab', 'ababaabb', 'abaababb', 'abaabbab', 'abaaabbb', 'aabababb', 'aababbab', 'aabaabbb', 'aabbabab', 'aabbaabb', 'aaababbb', 'aaabbabb', 'aaabbbab', 'aaaabbbb']\n"
     ]
    }
   ],
   "source": [
    "print(list(map(mon2word,D4)))"
   ]
  },
  {
   "cell_type": "code",
   "execution_count": 8,
   "metadata": {},
   "outputs": [
    {
     "data": {
      "text/latex": [
       "$\\displaystyle 42 x^{10}$"
      ],
      "text/plain": [
       "42*x**10"
      ]
     },
     "execution_count": 8,
     "metadata": {},
     "output_type": "execute_result"
    }
   ],
   "source": [
    "var('x')\n",
    "d5 = dyck(5)\n",
    "d5.subs({a:x,b:x})"
   ]
  },
  {
   "cell_type": "code",
   "execution_count": 9,
   "metadata": {},
   "outputs": [
    {
     "name": "stdout",
     "output_type": "stream",
     "text": [
      "1\n",
      "x**2\n",
      "2*x**4\n",
      "5*x**6\n",
      "14*x**8\n",
      "42*x**10\n"
     ]
    }
   ],
   "source": [
    "for i in range(0, len(dd)):\n",
    "    if i == 0:\n",
    "        print(1)\n",
    "    else :\n",
    "        print(dd[i].subs({a:x,b:x}))"
   ]
  },
  {
   "cell_type": "code",
   "execution_count": 10,
   "metadata": {},
   "outputs": [
    {
     "data": {
      "text/latex": [
       "$\\displaystyle a b^{2} + b a b + b^{3}$"
      ],
      "text/plain": [
       "a*b**2 + b*a*b + b**3"
      ]
     },
     "execution_count": 10,
     "metadata": {},
     "output_type": "execute_result"
    }
   ],
   "source": [
    "ff = {0:1, 1:b, 2:a*b+b*b}\n",
    "\n",
    "def fib(n):\n",
    "    if n in ff: return ff[n]\n",
    "    ff[n] = expand(b*fib(n-1)+a*b*fib(n-2))\n",
    "    return ff[n]\n",
    "\n",
    "fib(3)"
   ]
  },
  {
   "cell_type": "code",
   "execution_count": 11,
   "metadata": {},
   "outputs": [
    {
     "name": "stdout",
     "output_type": "stream",
     "text": [
      "['abab', 'abbb', 'babb', 'bbab', 'bbbb']\n"
     ]
    }
   ],
   "source": [
    "F4 = fib(4).as_ordered_terms()\n",
    "print(list(map(mon2word,F4)))"
   ]
  },
  {
   "cell_type": "code",
   "execution_count": 12,
   "metadata": {},
   "outputs": [
    {
     "data": {
      "text/latex": [
       "$\\displaystyle 8 x^{5}$"
      ],
      "text/plain": [
       "8*x**5"
      ]
     },
     "execution_count": 12,
     "metadata": {},
     "output_type": "execute_result"
    }
   ],
   "source": [
    "var('x')\n",
    "f5 = fib(5)\n",
    "f5.subs({a:x,b:x})"
   ]
  },
  {
   "cell_type": "code",
   "execution_count": 13,
   "metadata": {},
   "outputs": [
    {
     "name": "stdout",
     "output_type": "stream",
     "text": [
      "1\n",
      "x\n",
      "2*x**2\n",
      "3*x**3\n",
      "5*x**4\n",
      "8*x**5\n"
     ]
    }
   ],
   "source": [
    "for i in range(0, len(ff)):\n",
    "    if i == 0:\n",
    "        print(1)\n",
    "    else :\n",
    "        print(ff[i].subs({a:x,b:x}))"
   ]
  },
  {
   "cell_type": "code",
   "execution_count": 14,
   "metadata": {},
   "outputs": [],
   "source": [
    "var('o')\n",
    "\n",
    "def bintrees(n):\n",
    "    if n==1: return [o]\n",
    "    else:\n",
    "        ll = []\n",
    "        for i in range(1,n):\n",
    "            ll.extend([(o,u,v) for u in bintrees(i) for v in bintrees(n-i)])\n",
    "        return ll"
   ]
  },
  {
   "cell_type": "code",
   "execution_count": 29,
   "metadata": {
    "scrolled": true
   },
   "outputs": [
    {
     "data": {
      "text/plain": [
       "[(o, o, (o, o, (o, o, (o, o, o)))),\n",
       " (o, o, (o, o, (o, (o, o, o), o))),\n",
       " (o, o, (o, (o, o, o), (o, o, o))),\n",
       " (o, o, (o, (o, o, (o, o, o)), o)),\n",
       " (o, o, (o, (o, (o, o, o), o), o)),\n",
       " (o, (o, o, o), (o, o, (o, o, o))),\n",
       " (o, (o, o, o), (o, (o, o, o), o)),\n",
       " (o, (o, o, (o, o, o)), (o, o, o)),\n",
       " (o, (o, (o, o, o), o), (o, o, o)),\n",
       " (o, (o, o, (o, o, (o, o, o))), o),\n",
       " (o, (o, o, (o, (o, o, o), o)), o),\n",
       " (o, (o, (o, o, o), (o, o, o)), o),\n",
       " (o, (o, (o, o, (o, o, o)), o), o),\n",
       " (o, (o, (o, (o, o, o), o), o), o)]"
      ]
     },
     "execution_count": 29,
     "metadata": {},
     "output_type": "execute_result"
    }
   ],
   "source": [
    "bintrees(5)"
   ]
  },
  {
   "cell_type": "code",
   "execution_count": 16,
   "metadata": {},
   "outputs": [],
   "source": [
    "def parcours(t):\n",
    "    if t == o: return ''\n",
    "    return 'a'+ parcours(t[1])+'b'+ parcours(t[2])"
   ]
  },
  {
   "cell_type": "code",
   "execution_count": 76,
   "metadata": {},
   "outputs": [
    {
     "data": {
      "text/plain": [
       "['abababab',\n",
       " 'ababaabb',\n",
       " 'abaabbab',\n",
       " 'abaababb',\n",
       " 'abaaabbb',\n",
       " 'aabbabab',\n",
       " 'aabbaabb',\n",
       " 'aababbab',\n",
       " 'aaabbbab',\n",
       " 'aabababb',\n",
       " 'aabaabbb',\n",
       " 'aaabbabb',\n",
       " 'aaababbb',\n",
       " 'aaaabbbb']"
      ]
     },
     "execution_count": 76,
     "metadata": {},
     "output_type": "execute_result"
    }
   ],
   "source": [
    "arbre = list(map(parcours, bintrees(5)))\n",
    "arbre"
   ]
  },
  {
   "cell_type": "markdown",
   "metadata": {},
   "source": [
    "## Question supplémentaire\n",
    "Programmer la bijection inverse, c'est-à-dire, retrouver l'arbre binaire à partir du mot de dyck."
   ]
  },
  {
   "cell_type": "code",
   "execution_count": 77,
   "metadata": {},
   "outputs": [],
   "source": [
    "def lire_dyck(dyck):\n",
    "    if dyck == '' or len(dyck) == 1:\n",
    "        return o\n",
    "    elif dyck[0] == 'a' and dyck[1] == 'a':\n",
    "        return (o, lire_dyck(dyck[1:]), lire_dyck(dyck[1:]))\n",
    "    elif dyck[0] == 'b' and dyck[1] == 'a':\n",
    "        return (o, o, lire_dyck(dyck[2:]))\n",
    "    elif dyck[0] == 'b' and dyck[1] == 'b':\n",
    "        return (o, o, o)\n",
    "    elif dyck[0] == 'a' and dyck[1] == 'b':\n",
    "        return (o, o, lire_dyck(dyck[2:]))\n",
    "    "
   ]
  },
  {
   "cell_type": "markdown",
   "metadata": {},
   "source": [
    "(o, o, o) -> ...bbbbb\n",
    "(o, l, o) -> aaaaaaaa....\n",
    "(o, o, l) -> ....ba...\n",
    "(o, l, l)"
   ]
  },
  {
   "cell_type": "code",
   "execution_count": 78,
   "metadata": {},
   "outputs": [
    {
     "data": {
      "text/plain": [
       "[(o, o, (o, o, (o, o, (o, o, o)))),\n",
       " (o, o, (o, o, (o, (o, o, o), (o, o, o)))),\n",
       " (o, o, (o, (o, o, (o, o, o)), (o, o, (o, o, o)))),\n",
       " (o, o, (o, (o, o, (o, o, o)), (o, o, (o, o, o)))),\n",
       " (o,\n",
       "  o,\n",
       "  (o,\n",
       "   (o, (o, o, (o, o, o)), (o, o, (o, o, o))),\n",
       "   (o, (o, o, (o, o, o)), (o, o, (o, o, o))))),\n",
       " (o, (o, o, (o, o, (o, o, o))), (o, o, (o, o, (o, o, o)))),\n",
       " (o, (o, o, (o, o, (o, o, o))), (o, o, (o, o, (o, o, o)))),\n",
       " (o, (o, o, (o, o, (o, o, o))), (o, o, (o, o, (o, o, o)))),\n",
       " (o,\n",
       "  (o, (o, o, (o, o, o)), (o, o, (o, o, o))),\n",
       "  (o, (o, o, (o, o, o)), (o, o, (o, o, o)))),\n",
       " (o, (o, o, (o, o, (o, o, o))), (o, o, (o, o, (o, o, o)))),\n",
       " (o,\n",
       "  (o, o, (o, (o, o, (o, o, o)), (o, o, (o, o, o)))),\n",
       "  (o, o, (o, (o, o, (o, o, o)), (o, o, (o, o, o))))),\n",
       " (o,\n",
       "  (o, (o, o, (o, o, (o, o, o))), (o, o, (o, o, (o, o, o)))),\n",
       "  (o, (o, o, (o, o, (o, o, o))), (o, o, (o, o, (o, o, o))))),\n",
       " (o,\n",
       "  (o, (o, o, (o, o, (o, o, o))), (o, o, (o, o, (o, o, o)))),\n",
       "  (o, (o, o, (o, o, (o, o, o))), (o, o, (o, o, (o, o, o))))),\n",
       " (o,\n",
       "  (o,\n",
       "   (o, (o, o, (o, o, o)), (o, o, (o, o, o))),\n",
       "   (o, (o, o, (o, o, o)), (o, o, (o, o, o)))),\n",
       "  (o,\n",
       "   (o, (o, o, (o, o, o)), (o, o, (o, o, o))),\n",
       "   (o, (o, o, (o, o, o)), (o, o, (o, o, o)))))]"
      ]
     },
     "execution_count": 78,
     "metadata": {},
     "output_type": "execute_result"
    }
   ],
   "source": [
    "list(map(lire_dyck, arbre))"
   ]
  },
  {
   "cell_type": "code",
   "execution_count": null,
   "metadata": {},
   "outputs": [],
   "source": []
  },
  {
   "cell_type": "code",
   "execution_count": null,
   "metadata": {},
   "outputs": [],
   "source": []
  }
 ],
 "metadata": {
  "kernelspec": {
   "display_name": "Python 3",
   "language": "python",
   "name": "python3"
  },
  "language_info": {
   "codemirror_mode": {
    "name": "ipython",
    "version": 3
   },
   "file_extension": ".py",
   "mimetype": "text/x-python",
   "name": "python",
   "nbconvert_exporter": "python",
   "pygments_lexer": "ipython3",
   "version": "3.8.3"
  }
 },
 "nbformat": 4,
 "nbformat_minor": 4
}
