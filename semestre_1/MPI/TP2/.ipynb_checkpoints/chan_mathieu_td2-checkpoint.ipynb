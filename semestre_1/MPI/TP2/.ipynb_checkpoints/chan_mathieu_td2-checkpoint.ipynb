{
 "cells": [
  {
   "cell_type": "code",
   "execution_count": 2,
   "metadata": {},
   "outputs": [],
   "source": [
    "def factorial(n):\n",
    "    if n <= 1:\n",
    "        return 1\n",
    "    return factorial(n-1) * n\n",
    "\n",
    "def binomial(n, k):\n",
    "    bino = Rational(factorial(n),(factorial(k)*(factorial(n - k))))\n",
    "    return bino"
   ]
  },
  {
   "cell_type": "markdown",
   "metadata": {},
   "source": [
    "$$u_{n} = u_{n-1}+u_{n-2} (n \\ge 2), u_{0} = 2, u_{1} = 1$$"
   ]
  },
  {
   "cell_type": "markdown",
   "metadata": {},
   "source": [
    "$$U(x) = {-x+2 \\over -x^2 - x + 1}$$"
   ]
  },
  {
   "cell_type": "markdown",
   "metadata": {},
   "source": [
    "$$\n",
    "U(x)=-{-\\frac{1}{2}+\\frac{\\sqrt{5}}{2}\\over x -\\frac{\\sqrt{5}}{2}+\\frac{1}{2}} \n",
    "- {-\\frac{\\sqrt{5}}{2}-\\frac{1}{2}\\over x +\\frac{1}{2}+\\frac{\\sqrt{5}}{2}} \n",
    "$$"
   ]
  },
  {
   "cell_type": "code",
   "execution_count": 3,
   "metadata": {},
   "outputs": [
    {
     "data": {
      "text/plain": [
       "[2, 1, 3, 4, 7, 11]"
      ]
     },
     "execution_count": 3,
     "metadata": {},
     "output_type": "execute_result"
    }
   ],
   "source": [
    "def Q1(n):\n",
    "    a,b = 2,1\n",
    "    if n == 0: return a\n",
    "    elif n == 1: return b\n",
    "    for i in range(n - 1):\n",
    "        a,b = b,a+b\n",
    "    return b\n",
    "\n",
    "[Q1(i) for i in range(6)]"
   ]
  },
  {
   "cell_type": "code",
   "execution_count": 4,
   "metadata": {},
   "outputs": [
    {
     "data": {
      "text/latex": [
       "$\\displaystyle 11 x^{5} + 7 x^{4} + 4 x^{3} + 3 x^{2} + x + 2$"
      ],
      "text/plain": [
       "11*x**5 + 7*x**4 + 4*x**3 + 3*x**2 + x + 2"
      ]
     },
     "execution_count": 4,
     "metadata": {},
     "output_type": "execute_result"
    }
   ],
   "source": [
    "from sympy import *\n",
    "var('x')\n",
    "U = (-x + 2)/(-x**2 - x + 1)\n",
    "series(U,x,0,6).removeO()"
   ]
  },
  {
   "cell_type": "markdown",
   "metadata": {},
   "source": [
    "$$u_{n} = u_{n-1}+u_{n-2}-u_{n-3} (n \\ge 3), u_{0} = 1, u_{1} = 1, u_{2} = 2$$"
   ]
  },
  {
   "cell_type": "markdown",
   "metadata": {},
   "source": [
    "$$U(x) = {1 \\over x^3 - x^2 - x + 1}$$"
   ]
  },
  {
   "cell_type": "markdown",
   "metadata": {},
   "source": [
    "$$U(x)={1 \\over 4(x+1)} - {1 \\over 4(x-1)} + {1 \\over 2(x-1)^2}$$"
   ]
  },
  {
   "cell_type": "markdown",
   "metadata": {},
   "source": [
    "$$\n",
    "U(x)=\\frac{1}{4}\\sum_{n\\ge0}(-x)^n\n",
    "+\\frac{1}{4}\\sum_{n\\ge0}x^n \n",
    "+\\frac{1}{2}\\sum_{n\\ge0}\\binom{n+1}{n}x^n\n",
    "$$"
   ]
  },
  {
   "cell_type": "markdown",
   "metadata": {},
   "source": [
    "$$\n",
    "U(x)=\\frac{1}{4}\\sum_{n\\ge0}(2\\binom{n+1}{n}+(-1)^n -1)x^n\n",
    "$$"
   ]
  },
  {
   "cell_type": "markdown",
   "metadata": {},
   "source": [
    "$$\n",
    "U_{n} = \\frac{1}{4}(2\\binom{n+1}{n}+(-1)^n -1)\n",
    "$$"
   ]
  },
  {
   "cell_type": "code",
   "execution_count": 5,
   "metadata": {},
   "outputs": [
    {
     "data": {
      "text/plain": [
       "[1, 1, 2, 2, 3, 3]"
      ]
     },
     "execution_count": 5,
     "metadata": {},
     "output_type": "execute_result"
    }
   ],
   "source": [
    "def Q2(n):\n",
    "    a,b,c = 1,1,2\n",
    "    if(n == 0): return a\n",
    "    elif(n == 1): return b\n",
    "    elif(n == 2): return c\n",
    "    for i in range(n - 2):\n",
    "        a,b,c = b,c,c+b-a\n",
    "    return c\n",
    "[Q2(i) for i in range(6)]"
   ]
  },
  {
   "cell_type": "code",
   "execution_count": 6,
   "metadata": {},
   "outputs": [
    {
     "data": {
      "text/latex": [
       "$\\displaystyle 3 x^{5} + 3 x^{4} + 2 x^{3} + 2 x^{2} + x + 1$"
      ],
      "text/plain": [
       "3*x**5 + 3*x**4 + 2*x**3 + 2*x**2 + x + 1"
      ]
     },
     "execution_count": 6,
     "metadata": {},
     "output_type": "execute_result"
    }
   ],
   "source": [
    "var('x')\n",
    "U = 1/(x**3 - x**2 - x + 1)\n",
    "series(U,x,0,6).removeO()"
   ]
  },
  {
   "cell_type": "code",
   "execution_count": 7,
   "metadata": {},
   "outputs": [
    {
     "data": {
      "text/plain": [
       "[1, 1, 2, 2, 3, 3]"
      ]
     },
     "execution_count": 7,
     "metadata": {},
     "output_type": "execute_result"
    }
   ],
   "source": [
    "[(int)((1/4)*(2*binomial(n+1,n) + (-1)**n + 1)) for n in range(6)]"
   ]
  },
  {
   "cell_type": "markdown",
   "metadata": {},
   "source": [
    "$$u_{n} = 2u_{n-1}-u_{n-2} + n - 1 (n \\ge 2), u_{0} = 1, u_{1} = 1$$"
   ]
  },
  {
   "cell_type": "markdown",
   "metadata": {},
   "source": [
    "$$U(x) = {x^2 + (1 + x)^3 \\over (1-x)^4}$$"
   ]
  },
  {
   "cell_type": "markdown",
   "metadata": {},
   "source": [
    "$$\n",
    "U(x)=-\\frac{1}{x-1}\n",
    "+\\frac{1}{(x-1)^2}\n",
    "+\\frac{2}{(x-1)^3}\n",
    "+\\frac{1}{(x-1)^4}\n",
    "$$"
   ]
  },
  {
   "cell_type": "markdown",
   "metadata": {},
   "source": [
    "$$\n",
    "U(x)=\\sum_{n\\ge0}x^n\n",
    "+\\sum_{n\\ge0}\\binom{n+1}{n}x^n\n",
    "-2\\sum_{n\\ge0}\\binom{n+2}{n}x^n\n",
    "+\\sum_{n\\ge0}\\binom{n+3}{n}x^n\n",
    "$$"
   ]
  },
  {
   "cell_type": "markdown",
   "metadata": {},
   "source": [
    "$$\n",
    "U(x)=\\sum_{n\\ge0}(\\binom{n+3}{n}-2\\binom{n+2}{n}+\\binom{n+1}{n}+1)x^n\n",
    "$$"
   ]
  },
  {
   "cell_type": "markdown",
   "metadata": {},
   "source": [
    "$$\n",
    "U_{n} = \\binom{n+3}{n}-2\\binom{n+2}{n}+\\binom{n+1}{n}+1\n",
    "$$"
   ]
  },
  {
   "cell_type": "code",
   "execution_count": 8,
   "metadata": {},
   "outputs": [
    {
     "data": {
      "text/plain": [
       "[1, 1, 2, 5, 11, 21]"
      ]
     },
     "execution_count": 8,
     "metadata": {},
     "output_type": "execute_result"
    }
   ],
   "source": [
    "def Q3(n):\n",
    "    a,b = 1,1\n",
    "    if(n == 0): return a\n",
    "    elif(n == 1): return b\n",
    "    for i in range(n - 1):\n",
    "        a,b = b,2*b-a+i+1\n",
    "    return b\n",
    "[Q3(i) for i in range(6)]"
   ]
  },
  {
   "cell_type": "code",
   "execution_count": 9,
   "metadata": {},
   "outputs": [
    {
     "data": {
      "text/latex": [
       "$\\displaystyle 21 x^{5} + 11 x^{4} + 5 x^{3} + 2 x^{2} + x + 1$"
      ],
      "text/plain": [
       "21*x**5 + 11*x**4 + 5*x**3 + 2*x**2 + x + 1"
      ]
     },
     "execution_count": 9,
     "metadata": {},
     "output_type": "execute_result"
    }
   ],
   "source": [
    "var('x')\n",
    "U = (x**2 +(1-x)**3)/((1-x)**4)\n",
    "series(U,x,0,6).removeO()"
   ]
  },
  {
   "cell_type": "code",
   "execution_count": 10,
   "metadata": {},
   "outputs": [
    {
     "data": {
      "text/plain": [
       "[1, 1, 2, 5, 11, 21]"
      ]
     },
     "execution_count": 10,
     "metadata": {},
     "output_type": "execute_result"
    }
   ],
   "source": [
    "[binomial(n+3,n) - 2*binomial(n+2,n) \n",
    " + binomial(n+1,n) + 1 for n in range(6)]"
   ]
  },
  {
   "cell_type": "markdown",
   "metadata": {},
   "source": [
    "$$u_{n} = \\sum_{i=0}^{n-1}u_{i}u_{n-1-i}, u_{0} = 1$$"
   ]
  },
  {
   "cell_type": "markdown",
   "metadata": {},
   "source": [
    "$$U(x) = {1 - \\sqrt{1-4x} \\over 2}$$"
   ]
  },
  {
   "cell_type": "markdown",
   "metadata": {},
   "source": [
    "$$\n",
    "U(x)=\\frac{1}{2}(1-4x)^\\frac{1}{2}\n",
    "$$"
   ]
  },
  {
   "cell_type": "markdown",
   "metadata": {},
   "source": [
    "$$\n",
    "U(x)=\\frac{1}{2}(1-\\sum_{n\\ge0}\\binom{\\frac{1}{2}}{n}(-4x)^n)\n",
    "$$"
   ]
  },
  {
   "cell_type": "markdown",
   "metadata": {},
   "source": [
    "$$\n",
    "U(x)=\\sum_{n\\ge1}\\frac{(-1)^n}{2^n}\\frac{1}{n}\\binom{2n-2}{n-1}(-4)^nx^n\n",
    "$$"
   ]
  },
  {
   "cell_type": "markdown",
   "metadata": {},
   "source": [
    "$$\n",
    "U(x)=\\sum_{n\\ge1}\\frac{1}{n}\\binom{2n-2}{n-1}x^n\n",
    "$$"
   ]
  },
  {
   "cell_type": "markdown",
   "metadata": {},
   "source": [
    "$$\n",
    "U_{n}=\\frac{1}{n}\\binom{2n-2}{n-1}\n",
    "$$"
   ]
  },
  {
   "cell_type": "code",
   "execution_count": 11,
   "metadata": {},
   "outputs": [
    {
     "data": {
      "text/plain": [
       "[1, 1, 2, 5, 14, 42]"
      ]
     },
     "execution_count": 11,
     "metadata": {},
     "output_type": "execute_result"
    }
   ],
   "source": [
    "def Q4(n):\n",
    "    tab = [1]\n",
    "    if(n == 0): return tab[0]\n",
    "    for i in range(n):\n",
    "        somme = 0\n",
    "        for k in range(i + 1):\n",
    "            somme += tab[k]*tab[len(tab) - k - 1]\n",
    "        tab.append(somme)\n",
    "        \n",
    "    return tab[-1]\n",
    "[Q4(i) for i in range(6)]"
   ]
  },
  {
   "cell_type": "code",
   "execution_count": 12,
   "metadata": {},
   "outputs": [
    {
     "data": {
      "text/latex": [
       "$\\displaystyle 14 x^{5} + 5 x^{4} + 2 x^{3} + x^{2} + x$"
      ],
      "text/plain": [
       "14*x**5 + 5*x**4 + 2*x**3 + x**2 + x"
      ]
     },
     "execution_count": 12,
     "metadata": {},
     "output_type": "execute_result"
    }
   ],
   "source": [
    "var('x a')\n",
    "U = (1 - sqrt(1 - 4*x))/2\n",
    "series(U,x,0,6).removeO()"
   ]
  },
  {
   "cell_type": "markdown",
   "metadata": {},
   "source": [
    "$$u_{n+2}-u_{n+1} = \\sum_{i=0}^{n}u_{i}u_{n-i}, u_{0} = 1, u_{1} = 1$$"
   ]
  },
  {
   "cell_type": "markdown",
   "metadata": {},
   "source": [
    "$$U(x) = {1 - x - \\sqrt{1 - 2x - 3x^2} \\over 2x^2}$$"
   ]
  },
  {
   "cell_type": "code",
   "execution_count": 13,
   "metadata": {},
   "outputs": [
    {
     "data": {
      "text/plain": [
       "[1, 1, 2, 4, 9, 21]"
      ]
     },
     "execution_count": 13,
     "metadata": {},
     "output_type": "execute_result"
    }
   ],
   "source": [
    "def Q5(n):\n",
    "    tab = [1,1]\n",
    "    indice = 0\n",
    "    if(n == 0): return tab[0]\n",
    "    elif(n == 1): return tab[1]\n",
    "    for i in range(2, n + 1):\n",
    "        somme = 0\n",
    "        for k in range(i - 1):\n",
    "            somme += tab[k]*tab[indice - k]\n",
    "        somme += tab[-1]\n",
    "        tab.append(somme)\n",
    "        indice += 1\n",
    "    return tab[-1]\n",
    "\n",
    "[Q5(i) for i in range(6)]"
   ]
  },
  {
   "cell_type": "code",
   "execution_count": 14,
   "metadata": {},
   "outputs": [
    {
     "data": {
      "text/latex": [
       "$\\displaystyle 21.0 x^{5} + 9.0 x^{4} + 4.0 x^{3} + 2.0 x^{2} + 1.0 x + 1.0$"
      ],
      "text/plain": [
       "21.0*x**5 + 9.0*x**4 + 4.0*x**3 + 2.0*x**2 + 1.0*x + 1.0"
      ]
     },
     "execution_count": 14,
     "metadata": {},
     "output_type": "execute_result"
    }
   ],
   "source": [
    "var('x')\n",
    "U = (1 - x - (1 - 2*x - 3*x**2)**(1/2))/(2*x**2)\n",
    "series(U,x,0,6).removeO()"
   ]
  }
 ],
 "metadata": {
  "kernelspec": {
   "display_name": "Python 3",
   "language": "python",
   "name": "python3"
  },
  "language_info": {
   "codemirror_mode": {
    "name": "ipython",
    "version": 3
   },
   "file_extension": ".py",
   "mimetype": "text/x-python",
   "name": "python",
   "nbconvert_exporter": "python",
   "pygments_lexer": "ipython3",
   "version": "3.8.3"
  }
 },
 "nbformat": 4,
 "nbformat_minor": 4
}
