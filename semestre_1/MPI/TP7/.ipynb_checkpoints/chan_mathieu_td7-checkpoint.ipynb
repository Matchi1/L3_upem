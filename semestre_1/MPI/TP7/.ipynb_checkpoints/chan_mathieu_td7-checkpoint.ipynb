{
 "cells": [
  {
   "cell_type": "markdown",
   "metadata": {},
   "source": [
    "# L3 Mathématiques pour l'informatique 4 - TD 7\n",
    "\n",
    "## Restes chinois. \n",
    "\n",
    "Écrivez une fonction solve_chinese(xx, mm) qui résout le système de congruences\n",
    "$$\n",
    "\\left\\{ \\begin{matrix} x &\\equiv& x_1& [m_1] \\\\\n",
    "       x &\\equiv& x_2& [m_2]\\\\ \n",
    "       \\vdots & \\cdots &\\vdots \n",
    "       \\\\ x&\\equiv &x_n&[m_n]\\end{matrix}\\right.$$\n",
    "\n",
    "xx est la liste des seconds membres $x_i$ et mm celle des modules $m_i$. \n",
    "La fonction renverra l'unique solution $x$ dans l'intervalle $[0,m-1]$. On suppose que les $m_i$ sont deux à deux\n",
    "premiers entre eux."
   ]
  },
  {
   "cell_type": "code",
   "execution_count": 2,
   "metadata": {},
   "outputs": [],
   "source": [
    "from sympy import *\n",
    "\n",
    "def inversemod(a, n):\n",
    "    for i in range(1, n):\n",
    "        if((a * i) % n == 1):\n",
    "            return i\n",
    "        \n",
    "def solve_chinese(xx, mm):\n",
    "    yy = []\n",
    "    result = 0\n",
    "    for i in range(len(xx)):\n",
    "        m = 1\n",
    "        mod = mm[i]\n",
    "        for j in range(len(mm)):\n",
    "            if(i != j):\n",
    "                m *= mm[j]\n",
    "        a = inversemod(m, mod)\n",
    "        result += xx[i]*(a * m)\n",
    "        \n",
    "    mod = 1\n",
    "    for i in range(len(mm)):\n",
    "        mod *= mm[i]\n",
    "    return result % mod"
   ]
  },
  {
   "cell_type": "code",
   "execution_count": 3,
   "metadata": {},
   "outputs": [
    {
     "data": {
      "text/plain": [
       "785"
      ]
     },
     "execution_count": 3,
     "metadata": {},
     "output_type": "execute_result"
    }
   ],
   "source": [
    "solve_chinese([3,4,5], [17,11,6])"
   ]
  },
  {
   "cell_type": "code",
   "execution_count": 4,
   "metadata": {},
   "outputs": [
    {
     "data": {
      "text/plain": [
       "41823"
      ]
     },
     "execution_count": 4,
     "metadata": {},
     "output_type": "execute_result"
    }
   ],
   "source": [
    "# On doit obtenir\n",
    "solve_chinese([1,2,3,4], [11,13,17,19])"
   ]
  },
  {
   "cell_type": "markdown",
   "metadata": {},
   "source": [
    "## Exponentiation modulaire, test de Fermat\n",
    "\n",
    "Écrivez une fonction powermod(a,m,n) qui calcule $a^m\\mod n$ (la fonction pow de Python le fait aussi, mais on aura besoin de ce code pour la suite), et programmez le test de Fermat :\n",
    "\n",
    "un entier $n$ est dit [pseudo-premier de Fermat](https://en.wikipedia.org/wiki/Fermat_pseudoprime)\n",
    "pour la base $a$ si $a^{n-1}\\equiv 1\\,[n]$.\n",
    "\n",
    "Écrivez une fonction `test_fermat(n, tests=5)` qui va essayer `tests` bases $a$ au hasard et renvoie `True`\n",
    "si on obtient 1 pour chacune (et `False` sinon).\n",
    "\n",
    "Voir aussi [ici](http://fr.wikipedia.org/wiki/Exponentiation_modulaire).\n",
    "\n",
    "Les nombres de Fermat sont les $F_n = 2^{(2^n)}+1$. \n",
    "Ainsi, $F_0=3, F_1= 5, F_2= 17, F_3= 257, F_4= 65537, F_5= 4294967297\\ldots$. \n",
    "Ils sont premiers pour $n\\le 4$. \n",
    "Vérifiez par quelques tests de Fermat pour de petites bases $a=2,3,5,7 ...$ que \n",
    "$F_5,F_6,F_7, F_8$ ne sont pas premiers. Pouvez vous en tester de plus grands ?"
   ]
  },
  {
   "cell_type": "code",
   "execution_count": 5,
   "metadata": {},
   "outputs": [],
   "source": [
    "def powermod(a,m,n):\n",
    "    result = 1\n",
    "    while(m > 0):\n",
    "        if((m & 1) > 0):\n",
    "            result = (result * a) % n\n",
    "        m >>= 1\n",
    "        a = (a * a) % n\n",
    "    return result"
   ]
  },
  {
   "cell_type": "code",
   "execution_count": 6,
   "metadata": {},
   "outputs": [
    {
     "name": "stdout",
     "output_type": "stream",
     "text": [
      "3\n",
      "5\n",
      "17\n",
      "257\n",
      "65537\n",
      "4294967297\n",
      "18446744073709551617\n",
      "340282366920938463463374607431768211457\n",
      "115792089237316195423570985008687907853269984665640564039457584007913129639937\n"
     ]
    }
   ],
   "source": [
    "def F(n):\n",
    "    return 2**(2**n)+1\n",
    "\n",
    "for n in range(9): print(F(n))"
   ]
  },
  {
   "cell_type": "code",
   "execution_count": 7,
   "metadata": {
    "scrolled": true
   },
   "outputs": [
    {
     "name": "stdout",
     "output_type": "stream",
     "text": [
      "2 : True\n",
      "3 : True\n",
      "4 : True\n",
      "5 : False\n",
      "6 : False\n",
      "7 : False\n",
      "8 : False\n",
      "9 : False\n"
     ]
    }
   ],
   "source": [
    "from random import randint\n",
    "def test_fermat(n, tests=5):\n",
    "    lst_base = []\n",
    "    for i in range(tests):\n",
    "        lst_base.append(randint(1, n))\n",
    "    for a in lst_base:\n",
    "        if powermod(a,F(n)-1,F(n)) != 1:\n",
    "            return False\n",
    "    return True\n",
    "\n",
    "for i in range(2, 10): print(\"{} : {}\".format(i, test_fermat(i, tests=5)))"
   ]
  },
  {
   "cell_type": "code",
   "execution_count": 8,
   "metadata": {},
   "outputs": [
    {
     "name": "stdout",
     "output_type": "stream",
     "text": [
      "False\n",
      "False\n",
      "False\n",
      "False\n"
     ]
    }
   ],
   "source": [
    "for i in range(5, 9):\n",
    "    print(test_fermat(i, tests=5))"
   ]
  },
  {
   "cell_type": "markdown",
   "metadata": {},
   "source": [
    "## Test de Miller-Rabin. \n",
    "\n",
    "En modifiant le test de Fermat, programmer le test de Miller-Rabin. \n",
    "Pour cela, on écrit $n-1=2^km$ avec $m$ impair, et on commence par calculer \n",
    "$b=a^m \\mod n$. Si $b=1$, on renvoie `True` (probablement premier). \n",
    "Sinon, on calcule les $b^{(2^i)}\\mod n$ et la première fois que le résultat vaut 1, \n",
    "on teste si la valeur précédente était $\\equiv -1\\mod n$. \n",
    "Si ce n'est pas le cas, on renvoie `False` (composé). Si on arrive à $b^{(2^k)}$ \n",
    "sans avoir rencontré de racine carrée non triviale de 1, on renvoie `True`."
   ]
  },
  {
   "cell_type": "code",
   "execution_count": 63,
   "metadata": {},
   "outputs": [
    {
     "data": {
      "text/plain": [
       "(4, 35)"
      ]
     },
     "execution_count": 63,
     "metadata": {},
     "output_type": "execute_result"
    }
   ],
   "source": [
    "def mul_impair(n):\n",
    "    p_deux = 2\n",
    "    k = 0\n",
    "    m = 0\n",
    "    if(n == 1):\n",
    "        return (0, 1)\n",
    "    while(m % 2 != 1):\n",
    "        m = n // p_deux\n",
    "        p_deux *= 2\n",
    "        k += 1\n",
    "    return (k, m)\n",
    "    \n",
    "n = 560\n",
    "m = mul_impair(n); m"
   ]
  },
  {
   "cell_type": "code",
   "execution_count": 64,
   "metadata": {},
   "outputs": [
    {
     "data": {
      "text/plain": [
       "263"
      ]
     },
     "execution_count": 64,
     "metadata": {},
     "output_type": "execute_result"
    }
   ],
   "source": [
    "b = powermod(2, m[1], n + 1); b"
   ]
  },
  {
   "cell_type": "code",
   "execution_count": 65,
   "metadata": {},
   "outputs": [
    {
     "name": "stdout",
     "output_type": "stream",
     "text": [
      "263 166 67 1 1 1 "
     ]
    }
   ],
   "source": [
    "for i in range(0, 6): print(powermod(b, 2**i, n + 1), end=' ')"
   ]
  },
  {
   "cell_type": "code",
   "execution_count": 83,
   "metadata": {},
   "outputs": [],
   "source": [
    "def miller_rabin(n):\n",
    "    m = mul_impair(n - 1)\n",
    "    precedent = 0\n",
    "    actuel = 0\n",
    "    for a in range(2, n - 1):\n",
    "        b = powermod(a, m[1], n)\n",
    "        if(b == 1):\n",
    "            return True\n",
    "        for i in range(1, 10):\n",
    "            actuel = powermod(b, 2**i, n)\n",
    "            if(actuel == 1 and precedent != -1):\n",
    "                return False\n",
    "            precedent = actuel\n",
    "    return True"
   ]
  },
  {
   "cell_type": "code",
   "execution_count": 117,
   "metadata": {},
   "outputs": [
    {
     "name": "stdout",
     "output_type": "stream",
     "text": [
      "(1, 1)\n"
     ]
    },
    {
     "data": {
      "text/plain": [
       "True"
      ]
     },
     "execution_count": 117,
     "metadata": {},
     "output_type": "execute_result"
    }
   ],
   "source": [
    "miller_rabin(2)"
   ]
  },
  {
   "cell_type": "code",
   "execution_count": 118,
   "metadata": {},
   "outputs": [
    {
     "name": "stdout",
     "output_type": "stream",
     "text": [
      "(1, 1)\n"
     ]
    },
    {
     "data": {
      "text/plain": [
       "True"
      ]
     },
     "execution_count": 118,
     "metadata": {},
     "output_type": "execute_result"
    }
   ],
   "source": [
    "miller_rabin(3)"
   ]
  },
  {
   "cell_type": "code",
   "execution_count": 119,
   "metadata": {},
   "outputs": [
    {
     "name": "stdout",
     "output_type": "stream",
     "text": [
      "(1, 1)\n",
      "2\n",
      "0 and 0\n",
      "0 and 0\n",
      "0 and 0\n",
      "0 and 0\n",
      "0 and 0\n",
      "0 and 0\n",
      "0 and 0\n",
      "0 and 0\n",
      "0 and 0\n"
     ]
    },
    {
     "data": {
      "text/plain": [
       "True"
      ]
     },
     "execution_count": 119,
     "metadata": {},
     "output_type": "execute_result"
    }
   ],
   "source": [
    "miller_rabin(4)"
   ]
  },
  {
   "cell_type": "code",
   "execution_count": 120,
   "metadata": {},
   "outputs": [
    {
     "name": "stdout",
     "output_type": "stream",
     "text": [
      "(1, 279)\n",
      "288\n",
      "0 and 64\n",
      "64 and 176\n",
      "176 and 176\n",
      "176 and 176\n",
      "176 and 176\n",
      "176 and 176\n",
      "176 and 176\n",
      "176 and 176\n",
      "176 and 176\n",
      "27\n",
      "176 and 169\n",
      "169 and 1\n"
     ]
    },
    {
     "data": {
      "text/plain": [
       "False"
      ]
     },
     "execution_count": 120,
     "metadata": {},
     "output_type": "execute_result"
    }
   ],
   "source": [
    "miller_rabin(560)"
   ]
  },
  {
   "cell_type": "code",
   "execution_count": null,
   "metadata": {},
   "outputs": [],
   "source": []
  }
 ],
 "metadata": {
  "kernelspec": {
   "display_name": "Python 3",
   "language": "python",
   "name": "python3"
  },
  "language_info": {
   "codemirror_mode": {
    "name": "ipython",
    "version": 3
   },
   "file_extension": ".py",
   "mimetype": "text/x-python",
   "name": "python",
   "nbconvert_exporter": "python",
   "pygments_lexer": "ipython3",
   "version": "3.8.3"
  }
 },
 "nbformat": 4,
 "nbformat_minor": 1
}
