{
 "cells": [
  {
   "cell_type": "markdown",
   "metadata": {},
   "source": [
    "**4.**  Soit $(U_{n})$ la suite définier par\n",
    "$$u_{n} = 2u_{n-1} + u_{n-2} - 2u_{n-3}, u_{0} = 1, u_{1} = 0, u_{2} = 2.$$"
   ]
  },
  {
   "cell_type": "markdown",
   "metadata": {},
   "source": [
    "a) Trouver une expression de la série génératrice U(x) de $(u_{n})$."
   ]
  },
  {
   "cell_type": "markdown",
   "metadata": {},
   "source": [
    "$$U(x) = {x^2 - 2x + 1 \\over 2x^3 - x^2 - 2x + 1}$$"
   ]
  },
  {
   "cell_type": "markdown",
   "metadata": {},
   "source": [
    "$$U(x)=\\sum_{n\\ge0}(\\frac{1}{2}2^n + \\frac{2}{3}(-1)^n)x^n$$"
   ]
  },
  {
   "cell_type": "markdown",
   "metadata": {},
   "source": [
    "b) Calculer son développement en série à l'ordre 12 avec **sympy**."
   ]
  },
  {
   "cell_type": "code",
   "execution_count": 47,
   "metadata": {},
   "outputs": [
    {
     "data": {
      "text/plain": [
       "[1, 0, 2, 2, 6, 10, 22, 42, 86, 170, 342, 682]"
      ]
     },
     "execution_count": 47,
     "metadata": {},
     "output_type": "execute_result"
    }
   ],
   "source": [
    "from sympy import *\n",
    "\n",
    "var('x')\n",
    "num = x**2 - 2*x + 1\n",
    "denom = 2*x**3 - x**2 - 2*x + 1\n",
    "R = num / denom\n",
    "\n",
    "serie = series(R,x,0,12).removeO()\n",
    "serie = serie.as_poly()\n",
    "coeffs = serie.all_coeffs()\n",
    "coeffs.reverse(); coeffs"
   ]
  },
  {
   "cell_type": "markdown",
   "metadata": {},
   "source": [
    "c) Programmer la fonction u(n) à partir de la récurrence et afficher les 12 premiers termes"
   ]
  },
  {
   "cell_type": "code",
   "execution_count": 53,
   "metadata": {},
   "outputs": [
    {
     "data": {
      "text/plain": [
       "[1, 0, 2, 2, 6, 10, 22, 42, 86, 170, 342, 682]"
      ]
     },
     "execution_count": 53,
     "metadata": {},
     "output_type": "execute_result"
    }
   ],
   "source": [
    "def U(n):\n",
    "    un = [1, 0, 2]\n",
    "    for i in range(3, 12):\n",
    "        un.append(2*un[i - 1] + un[i - 2] - 2*un[i - 3])\n",
    "    return un\n",
    "U(12)"
   ]
  },
  {
   "cell_type": "markdown",
   "metadata": {},
   "source": [
    "d) Recommencer jusqu’à ce que les questions b) et c) donnent les mêmes resultats."
   ]
  },
  {
   "cell_type": "code",
   "execution_count": 48,
   "metadata": {},
   "outputs": [
    {
     "name": "stdout",
     "output_type": "stream",
     "text": [
      "[1, 0, 2, 2, 6, 10, 22, 42, 86, 170, 342, 682]\n",
      "[1, 0, 2, 2, 6, 10, 22, 42, 86, 170, 342, 682]\n"
     ]
    }
   ],
   "source": [
    "print(coeffs)\n",
    "print(un)"
   ]
  },
  {
   "cell_type": "markdown",
   "metadata": {},
   "source": [
    "e) Trouver une formule explicite pour $u_{n}$"
   ]
  },
  {
   "cell_type": "markdown",
   "metadata": {},
   "source": [
    "$$U_{n} = \\frac{1}{2}2^n + \\frac{2}{3}(-1)^n$$"
   ]
  },
  {
   "cell_type": "markdown",
   "metadata": {},
   "source": [
    "f) Programmer cette suite sous forme d’une fonction u(n)."
   ]
  },
  {
   "cell_type": "code",
   "execution_count": 54,
   "metadata": {},
   "outputs": [
    {
     "data": {
      "text/plain": [
       "10.0"
      ]
     },
     "execution_count": 54,
     "metadata": {},
     "output_type": "execute_result"
    }
   ],
   "source": [
    "def U(n):\n",
    "    return (1/3)*2**n + (2/3)*(-1)**n\n",
    "U(5)"
   ]
  },
  {
   "cell_type": "markdown",
   "metadata": {},
   "source": [
    "g) Étrangement, il se trouve que cette suite est connue. Interrogez l’encyclopedie en ligne des suites d’entiers (http://oeis.org) pour voir ce qu’on en sait."
   ]
  },
  {
   "cell_type": "markdown",
   "metadata": {},
   "source": [
    "http://oeis.org/search?q=1%2C+0%2C+2%2C+2%2C+6%2C+10%2C+22%2C+42%2C+86%2C+170%2C+342%2C+682&language=english&go=Search"
   ]
  },
  {
   "cell_type": "markdown",
   "metadata": {},
   "source": [
    "**5.** On considère la suite $(q_{n})$ définie par:\n",
    "$$q_{n} = {1 + q_{n-1} \\over q_{n-2} },  q_{0} = a, q_{1} = b$$"
   ]
  },
  {
   "cell_type": "markdown",
   "metadata": {},
   "source": [
    "a) Programmer la suite avec **sympy**."
   ]
  },
  {
   "cell_type": "code",
   "execution_count": 5,
   "metadata": {},
   "outputs": [
    {
     "name": "stdout",
     "output_type": "stream",
     "text": [
      "Pour a : 1 et b : 1 qn : [1, 1, 2, 3, 2, 1, 1, 2, 3, 2]\n",
      "Pour a : 1 et b : 2 qn : [1, 2, 3, 2, 1, 1, 2, 3, 2, 1]\n",
      "Pour a : 1 et b : 3 qn : [1, 3, 4, 5/3, 2/3, 1, 3, 4, 5/3, 2/3]\n",
      "Pour a : 1 et b : 4 qn : [1, 4, 5, 3/2, 1/2, 1, 4, 5, 3/2, 1/2]\n",
      "Pour a : 2 et b : 1 qn : [2, 1, 1, 2, 3, 2, 1, 1, 2, 3]\n",
      "Pour a : 2 et b : 2 qn : [2, 2, 3/2, 5/4, 3/2, 2, 2, 3/2, 5/4, 3/2]\n",
      "Pour a : 2 et b : 3 qn : [2, 3, 2, 1, 1, 2, 3, 2, 1, 1]\n",
      "Pour a : 2 et b : 4 qn : [2, 4, 5/2, 7/8, 3/4, 2, 4, 5/2, 7/8, 3/4]\n",
      "Pour a : 3 et b : 1 qn : [3, 1, 2/3, 5/3, 4, 3, 1, 2/3, 5/3, 4]\n",
      "Pour a : 3 et b : 2 qn : [3, 2, 1, 1, 2, 3, 2, 1, 1, 2]\n",
      "Pour a : 3 et b : 3 qn : [3, 3, 4/3, 7/9, 4/3, 3, 3, 4/3, 7/9, 4/3]\n",
      "Pour a : 3 et b : 4 qn : [3, 4, 5/3, 2/3, 1, 3, 4, 5/3, 2/3, 1]\n",
      "Pour a : 4 et b : 1 qn : [4, 1, 1/2, 3/2, 5, 4, 1, 1/2, 3/2, 5]\n",
      "Pour a : 4 et b : 2 qn : [4, 2, 3/4, 7/8, 5/2, 4, 2, 3/4, 7/8, 5/2]\n",
      "Pour a : 4 et b : 3 qn : [4, 3, 1, 2/3, 5/3, 4, 3, 1, 2/3, 5/3]\n",
      "Pour a : 4 et b : 4 qn : [4, 4, 5/4, 9/16, 5/4, 4, 4, 5/4, 9/16, 5/4]\n"
     ]
    }
   ],
   "source": [
    "for a in range(1, 5):\n",
    "    for b in range(1, 5):\n",
    "        qn = [a, b]\n",
    "        for i in range(2, 10):\n",
    "            qn.append(Rational(1 + qn[i - 1], qn[i - 2]))\n",
    "        print(\"Pour a : {} et b : {} qn : {}\".format(a, b, qn))"
   ]
  },
  {
   "cell_type": "markdown",
   "metadata": {},
   "source": [
    "b) En étudiant les premiers termes, deviner la réponse."
   ]
  },
  {
   "cell_type": "markdown",
   "metadata": {},
   "source": [
    "La réponse est $q_{n} = q_{n\\%5}$"
   ]
  },
  {
   "cell_type": "markdown",
   "metadata": {},
   "source": [
    "c) Reste-t-il quelquechose à prouver ?"
   ]
  },
  {
   "cell_type": "markdown",
   "metadata": {},
   "source": [
    "Il reste à prouver la valeur des 5 premiers termes de la suite selon a et b."
   ]
  },
  {
   "cell_type": "markdown",
   "metadata": {},
   "source": [
    "**6.** Soit $A_{n}$, la somme alternée\n",
    "$$A_{n} = \\sum_{k=0}^{n}(-1)^k{(2k+1) \\over (2k+1)^4 + 4}$$"
   ]
  },
  {
   "cell_type": "markdown",
   "metadata": {},
   "source": [
    "a) Programmer la fonction **A(n)** avec **sympy** (utiliser Rational)"
   ]
  },
  {
   "cell_type": "code",
   "execution_count": 6,
   "metadata": {},
   "outputs": [],
   "source": [
    "def A(n):\n",
    "    somme = 0\n",
    "    for i in range(0, n):\n",
    "        somme += ((-1)**i) * Rational((2*i + 1), (2*i + 1)**4 + 4) \n",
    "        print(\"k = {}, {}\".format(i, somme))"
   ]
  },
  {
   "cell_type": "markdown",
   "metadata": {},
   "source": [
    "b) Afficher les 12 premiers termes"
   ]
  },
  {
   "cell_type": "code",
   "execution_count": 7,
   "metadata": {},
   "outputs": [
    {
     "name": "stdout",
     "output_type": "stream",
     "text": [
      "k = 0, 1/5\n",
      "k = 1, 14/85\n",
      "k = 2, 543/3145\n",
      "k = 3, 1388/8177\n",
      "k = 4, 706601/4129385\n",
      "k = 5, 20401482/119752165\n",
      "k = 6, 805965671/4718235301\n",
      "k = 7, 206773920952/1212586472357\n",
      "k = 8, 5175518023809/30314661808925\n",
      "k = 9, 2073610485780118/12156179385378925\n",
      "k = 10, 201267538700268931/1179149400381755725\n",
      "k = 11, 116075451404882430132/680369204020273053325\n"
     ]
    }
   ],
   "source": [
    "A(12)"
   ]
  },
  {
   "cell_type": "markdown",
   "metadata": {},
   "source": [
    "c) Deviner une formule pour le signe, le numérateur, et le dénominateur de $A_{n}$."
   ]
  },
  {
   "cell_type": "code",
   "execution_count": null,
   "metadata": {},
   "outputs": [],
   "source": []
  },
  {
   "cell_type": "markdown",
   "metadata": {},
   "source": [
    "d) Prouver la formule par récurrence (**sympy** peut faire les calculs algébriques requis pour la vérification)."
   ]
  },
  {
   "cell_type": "code",
   "execution_count": null,
   "metadata": {},
   "outputs": [],
   "source": []
  },
  {
   "cell_type": "code",
   "execution_count": null,
   "metadata": {},
   "outputs": [],
   "source": []
  }
 ],
 "metadata": {
  "kernelspec": {
   "display_name": "Python 3",
   "language": "python",
   "name": "python3"
  },
  "language_info": {
   "codemirror_mode": {
    "name": "ipython",
    "version": 3
   },
   "file_extension": ".py",
   "mimetype": "text/x-python",
   "name": "python",
   "nbconvert_exporter": "python",
   "pygments_lexer": "ipython3",
   "version": "3.8.3"
  }
 },
 "nbformat": 4,
 "nbformat_minor": 4
}
