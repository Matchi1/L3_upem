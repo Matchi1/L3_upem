{
 "cells": [
  {
   "cell_type": "markdown",
   "metadata": {},
   "source": [
    "# Mathématiques pour l'informatique 4\n",
    "## TD 4\n",
    "\n",
    "### Séries génératrices exponentielles\n",
    "Les séries génératrices étudiées jusqu'à maintenant sont appelées *séries génératrices ordinaires* (SGO).\n",
    "Il est souvent utile d'introduire des séries de la forme\n",
    "$$ A(x) = \\sum_{n\\ge 0}a_n\\frac{x^n}{n!},$$\n",
    "dites *séries génératrices exponentielles* (SGE). Par exemple,\n",
    "$$e^x = \\sum_{n\\ge 0}\\frac{x^n}{n!}$$\n",
    "est la SGE de la suite constante $a_n=1$ alors que sa SGO est $\\frac1{1-x}$.\n",
    "\n",
    "On demande de calculer les premiers coefficients $d_n$, $b_n$, $E_n$ des SGE suivantes, et d'interroger l'encyclopédie des suites d'entiers.\n",
    "\n",
    "1. Dérangements\n",
    "$$D(x)=\\frac{e^{-x}}{1-x}=\\sum_{n\\ge 0}d_n \\frac{x^n}{n!}$$\n",
    "      \n",
    "2. Nombres de Bell\n",
    "$$\\ B(x)= e^{e^x-1}=\\sum_{n\\ge 0}b_n\\frac{x^n}{n!}$$\n",
    "\n",
    "3. Nombres d'Euler\n",
    "$$\\tan(x)=\\sum_{k\\ge0}E_{2k+1}\\frac{x^{2k+1}}{(2k+1)!}\\ \\text{et}\\\n",
    "\\frac1{\\cos(x)} =\\sum_{k\\ge 0}E_{2k}\\frac{x^{2k}}{(2k)!}$$"
   ]
  },
  {
   "cell_type": "code",
   "execution_count": 89,
   "metadata": {},
   "outputs": [
    {
     "data": {
      "text/latex": [
       "$\\displaystyle \\operatorname{Poly}{\\left( \\frac{2}{315} x^{8} + \\frac{8}{315} x^{7} + \\frac{4}{45} x^{6} + \\frac{4}{15} x^{5} + \\frac{2}{3} x^{4} + \\frac{4}{3} x^{3} + 2 x^{2} + 2 x + 1, x, domain=\\mathbb{Q} \\right)}$"
      ],
      "text/plain": [
       "Poly(2/315*x**8 + 8/315*x**7 + 4/45*x**6 + 4/15*x**5 + 2/3*x**4 + 4/3*x**3 + 2*x**2 + 2*x + 1, x, domain='QQ')"
      ]
     },
     "execution_count": 89,
     "metadata": {},
     "output_type": "execute_result"
    }
   ],
   "source": [
    "# Exemple de calcul\n",
    "from sympy import *\n",
    "var('x')\n",
    "s = series(exp(2*x),x,0,9).removeO().as_poly(); s"
   ]
  },
  {
   "cell_type": "code",
   "execution_count": 90,
   "metadata": {},
   "outputs": [
    {
     "data": {
      "text/plain": [
       "[1, 2, 2, 4/3, 2/3, 4/15, 4/45, 8/315, 2/315]"
      ]
     },
     "execution_count": 90,
     "metadata": {},
     "output_type": "execute_result"
    }
   ],
   "source": [
    "ss = s.all_coeffs()[::-1]; ss"
   ]
  },
  {
   "cell_type": "code",
   "execution_count": 91,
   "metadata": {},
   "outputs": [
    {
     "data": {
      "text/plain": [
       "[1, 2, 4, 8, 16, 32, 64, 128, 256]"
      ]
     },
     "execution_count": 91,
     "metadata": {},
     "output_type": "execute_result"
    }
   ],
   "source": [
    "[ss[i]*factorial(i) for i in range(len(ss))]"
   ]
  },
  {
   "cell_type": "code",
   "execution_count": 92,
   "metadata": {},
   "outputs": [
    {
     "data": {
      "text/latex": [
       "$\\displaystyle \\operatorname{Poly}{\\left( \\frac{2119}{5760} x^{8} + \\frac{103}{280} x^{7} + \\frac{53}{144} x^{6} + \\frac{11}{30} x^{5} + \\frac{3}{8} x^{4} + \\frac{1}{3} x^{3} + \\frac{1}{2} x^{2} + 1, x, domain=\\mathbb{Q} \\right)}$"
      ],
      "text/plain": [
       "Poly(2119/5760*x**8 + 103/280*x**7 + 53/144*x**6 + 11/30*x**5 + 3/8*x**4 + 1/3*x**3 + 1/2*x**2 + 1, x, domain='QQ')"
      ]
     },
     "execution_count": 92,
     "metadata": {},
     "output_type": "execute_result"
    }
   ],
   "source": [
    "#Dérangements\n",
    "deran = exp(-x)/(1 - x)\n",
    "deran = series(deran, x, 0, 9).removeO().as_poly(); deran"
   ]
  },
  {
   "cell_type": "code",
   "execution_count": 93,
   "metadata": {},
   "outputs": [
    {
     "data": {
      "text/plain": [
       "[1, 0, 1/2, 1/3, 3/8, 11/30, 53/144, 103/280, 2119/5760]"
      ]
     },
     "execution_count": 93,
     "metadata": {},
     "output_type": "execute_result"
    }
   ],
   "source": [
    "dd = deran.all_coeffs()[::-1]; dd"
   ]
  },
  {
   "cell_type": "code",
   "execution_count": 94,
   "metadata": {},
   "outputs": [
    {
     "data": {
      "text/plain": [
       "[1, 0, 1, 2, 9, 44, 265, 1854, 14833]"
      ]
     },
     "execution_count": 94,
     "metadata": {},
     "output_type": "execute_result"
    }
   ],
   "source": [
    "[dd[i] * factorial(i) for i in range(len(dd))]"
   ]
  },
  {
   "cell_type": "code",
   "execution_count": 95,
   "metadata": {},
   "outputs": [
    {
     "data": {
      "text/latex": [
       "$\\displaystyle \\operatorname{Poly}{\\left( \\frac{23}{224} x^{8} + \\frac{877}{5040} x^{7} + \\frac{203}{720} x^{6} + \\frac{13}{30} x^{5} + \\frac{5}{8} x^{4} + \\frac{5}{6} x^{3} + x^{2} + x + 1, x, domain=\\mathbb{Q} \\right)}$"
      ],
      "text/plain": [
       "Poly(23/224*x**8 + 877/5040*x**7 + 203/720*x**6 + 13/30*x**5 + 5/8*x**4 + 5/6*x**3 + x**2 + x + 1, x, domain='QQ')"
      ]
     },
     "execution_count": 95,
     "metadata": {},
     "output_type": "execute_result"
    }
   ],
   "source": [
    "#Nombres de Bell\n",
    "bell = exp(exp(x) - 1)\n",
    "bell = series(bell, x, 0, 9).removeO().as_poly(); bell"
   ]
  },
  {
   "cell_type": "code",
   "execution_count": 96,
   "metadata": {},
   "outputs": [
    {
     "data": {
      "text/plain": [
       "[1, 1, 1, 5/6, 5/8, 13/30, 203/720, 877/5040, 23/224]"
      ]
     },
     "execution_count": 96,
     "metadata": {},
     "output_type": "execute_result"
    }
   ],
   "source": [
    "bb = bell.all_coeffs()[::-1]; bb"
   ]
  },
  {
   "cell_type": "code",
   "execution_count": 97,
   "metadata": {},
   "outputs": [
    {
     "data": {
      "text/plain": [
       "[1, 1, 2, 5, 15, 52, 203, 877, 4140]"
      ]
     },
     "execution_count": 97,
     "metadata": {},
     "output_type": "execute_result"
    }
   ],
   "source": [
    "[bb[i] * factorial(i) for i in range(len(bb))]"
   ]
  },
  {
   "cell_type": "code",
   "execution_count": 98,
   "metadata": {},
   "outputs": [
    {
     "data": {
      "text/latex": [
       "$\\displaystyle \\operatorname{Poly}{\\left( \\frac{277}{8064} x^{8} + \\frac{17}{315} x^{7} + \\frac{61}{720} x^{6} + \\frac{2}{15} x^{5} + \\frac{5}{24} x^{4} + \\frac{1}{3} x^{3} + \\frac{1}{2} x^{2} + x + 1, x, domain=\\mathbb{Q} \\right)}$"
      ],
      "text/plain": [
       "Poly(277/8064*x**8 + 17/315*x**7 + 61/720*x**6 + 2/15*x**5 + 5/24*x**4 + 1/3*x**3 + 1/2*x**2 + x + 1, x, domain='QQ')"
      ]
     },
     "execution_count": 98,
     "metadata": {},
     "output_type": "execute_result"
    }
   ],
   "source": [
    "#Nombres d'Euler\n",
    "euler = tan(x) + 1/cos(x)\n",
    "euler = series(euler, x, 0, 9).removeO().as_poly(); euler"
   ]
  },
  {
   "cell_type": "code",
   "execution_count": 99,
   "metadata": {},
   "outputs": [
    {
     "data": {
      "text/plain": [
       "[1, 1, 1/2, 1/3, 5/24, 2/15, 61/720, 17/315, 277/8064]"
      ]
     },
     "execution_count": 99,
     "metadata": {},
     "output_type": "execute_result"
    }
   ],
   "source": [
    "ee = euler.all_coeffs()[::-1]; ee"
   ]
  },
  {
   "cell_type": "code",
   "execution_count": 100,
   "metadata": {},
   "outputs": [
    {
     "data": {
      "text/plain": [
       "[1, 1, 1, 2, 5, 16, 61, 272, 1385]"
      ]
     },
     "execution_count": 100,
     "metadata": {},
     "output_type": "execute_result"
    }
   ],
   "source": [
    "[ee[i] * factorial(i) for i in range(len(ee))]"
   ]
  },
  {
   "cell_type": "code",
   "execution_count": 101,
   "metadata": {},
   "outputs": [],
   "source": [
    "#fonction pour vérifier que les coeffs s'alternent\n",
    "def is_alterning(ll):\n",
    "    return all([(-1)**i*ll[i] < (-1)**i*ll[i+1] for i in range(len(ll) -1)])\n"
   ]
  },
  {
   "cell_type": "code",
   "execution_count": 102,
   "metadata": {},
   "outputs": [
    {
     "data": {
      "text/plain": [
       "False"
      ]
     },
     "execution_count": 102,
     "metadata": {},
     "output_type": "execute_result"
    }
   ],
   "source": [
    "is_alterning(ee)"
   ]
  },
  {
   "cell_type": "markdown",
   "metadata": {},
   "source": [
    "Les exemples 1 et 2 seront traités en cours.\n",
    "\n",
    "Pour l'exemple 3, on constate que les $E_n$ sont des entiers positifs, ce qui n'a rien d'évident. Regardez leur interprétation combinatoire sur l'encyclopédie en ligne.\n",
    "\n",
    "Une permutation $\\sigma$ sera dite *alternante* si σ(1)<σ(2)>σ(3)<σ(4)>…. \n",
    "Ecrire une fonction aussi simple que possible qui teste si une permutation (représentée comme une liste ou un tuple d'entiers) est alternante.\n",
    "\n",
    "Indication : utiliser la syntaxe <tt>[f(x) for x in quelquechose if truc(x)]</tt>, et aussi <tt>all(une_liste)</tt> qui renvoie True si tous les éléments de la liste sont vrais.\n",
    "\n",
    "On pourra ensuite importer la fonction <tt> permutations</tt> depuis le module <tt>itertools</tt>, et compter les permutations alternantes pour $n=1,2,3,4,...,?$."
   ]
  },
  {
   "cell_type": "markdown",
   "metadata": {},
   "source": [
    "### Triangles combinatoires et séries génératrices doubles\n",
    "Les suites combinatoires peuvent souvent être raffinées en prenant en compte un paramètre supplémémentaire.\n",
    "Par exemple, la suite $2^n$ compte les sous-ensembles d'un ensemble à $n$ éléments, et les coefficients du\n",
    "polynôme\n",
    "$$(1+t)^n = \\sum_{k=0}^n{n\\choose k}t^k$$\n",
    "(qui devient $2^n$ pour $t=1$) comptent les sous-ensembles à $k$ éléments. Il forment un triangle combinatoire bien connu, le *triangle de Pascal*.\n",
    "\n",
    "On pourrait le représenter par une série génératrice exponentielle *double*\n",
    "$$e^{(1+t)x} = \\sum_{n\\ge 0}(1+t)^n\\frac{x^n}{n!}.$$"
   ]
  },
  {
   "cell_type": "code",
   "execution_count": 103,
   "metadata": {},
   "outputs": [
    {
     "data": {
      "text/latex": [
       "$\\displaystyle \\operatorname{Poly}{\\left( \\left(\\frac{t^{8}}{40320} + \\frac{t^{7}}{5040} + \\frac{t^{6}}{1440} + \\frac{t^{5}}{720} + \\frac{t^{4}}{576} + \\frac{t^{3}}{720} + \\frac{t^{2}}{1440} + \\frac{t}{5040} + \\frac{1}{40320}\\right) x^{8} + \\left(\\frac{t^{7}}{5040} + \\frac{t^{6}}{720} + \\frac{t^{5}}{240} + \\frac{t^{4}}{144} + \\frac{t^{3}}{144} + \\frac{t^{2}}{240} + \\frac{t}{720} + \\frac{1}{5040}\\right) x^{7} + \\left(\\frac{t^{6}}{720} + \\frac{t^{5}}{120} + \\frac{t^{4}}{48} + \\frac{t^{3}}{36} + \\frac{t^{2}}{48} + \\frac{t}{120} + \\frac{1}{720}\\right) x^{6} + \\left(\\frac{t^{5}}{120} + \\frac{t^{4}}{24} + \\frac{t^{3}}{12} + \\frac{t^{2}}{12} + \\frac{t}{24} + \\frac{1}{120}\\right) x^{5} + \\left(\\frac{t^{4}}{24} + \\frac{t^{3}}{6} + \\frac{t^{2}}{4} + \\frac{t}{6} + \\frac{1}{24}\\right) x^{4} + \\left(\\frac{t^{3}}{6} + \\frac{t^{2}}{2} + \\frac{t}{2} + \\frac{1}{6}\\right) x^{3} + \\left(\\frac{t^{2}}{2} + t + \\frac{1}{2}\\right) x^{2} + \\left(t + 1\\right) x + 1, x, domain=\\mathbb{Q}\\left[t\\right] \\right)}$"
      ],
      "text/plain": [
       "Poly((t**8/40320 + t**7/5040 + t**6/1440 + t**5/720 + t**4/576 + t**3/720 + t**2/1440 + t/5040 + 1/40320)*x**8 + (t**7/5040 + t**6/720 + t**5/240 + t**4/144 + t**3/144 + t**2/240 + t/720 + 1/5040)*x**7 + (t**6/720 + t**5/120 + t**4/48 + t**3/36 + t**2/48 + t/120 + 1/720)*x**6 + (t**5/120 + t**4/24 + t**3/12 + t**2/12 + t/24 + 1/120)*x**5 + (t**4/24 + t**3/6 + t**2/4 + t/6 + 1/24)*x**4 + (t**3/6 + t**2/2 + t/2 + 1/6)*x**3 + (t**2/2 + t + 1/2)*x**2 + (t + 1)*x + 1, x, domain='QQ[t]')"
      ]
     },
     "execution_count": 103,
     "metadata": {},
     "output_type": "execute_result"
    }
   ],
   "source": [
    "# On introduit une nouvelle variable\n",
    "var('t')\n",
    "# et on procède comme d'habitude\n",
    "s = series(exp((1+t)*x),x,0,9).removeO().as_poly(x); s # noter le paramètre de as_poly"
   ]
  },
  {
   "cell_type": "code",
   "execution_count": 104,
   "metadata": {},
   "outputs": [
    {
     "data": {
      "text/plain": [
       "[1,\n",
       " t + 1,\n",
       " t**2/2 + t + 1/2,\n",
       " t**3/6 + t**2/2 + t/2 + 1/6,\n",
       " t**4/24 + t**3/6 + t**2/4 + t/6 + 1/24,\n",
       " t**5/120 + t**4/24 + t**3/12 + t**2/12 + t/24 + 1/120,\n",
       " t**6/720 + t**5/120 + t**4/48 + t**3/36 + t**2/48 + t/120 + 1/720,\n",
       " t**7/5040 + t**6/720 + t**5/240 + t**4/144 + t**3/144 + t**2/240 + t/720 + 1/5040,\n",
       " t**8/40320 + t**7/5040 + t**6/1440 + t**5/720 + t**4/576 + t**3/720 + t**2/1440 + t/5040 + 1/40320]"
      ]
     },
     "execution_count": 104,
     "metadata": {},
     "output_type": "execute_result"
    }
   ],
   "source": [
    "ss = s.all_coeffs()[::-1]; ss"
   ]
  },
  {
   "cell_type": "code",
   "execution_count": 105,
   "metadata": {},
   "outputs": [
    {
     "data": {
      "text/plain": [
       "[1,\n",
       " t + 1,\n",
       " t**2 + 2*t + 1,\n",
       " t**3 + 3*t**2 + 3*t + 1,\n",
       " t**4 + 4*t**3 + 6*t**2 + 4*t + 1,\n",
       " t**5 + 5*t**4 + 10*t**3 + 10*t**2 + 5*t + 1,\n",
       " t**6 + 6*t**5 + 15*t**4 + 20*t**3 + 15*t**2 + 6*t + 1,\n",
       " t**7 + 7*t**6 + 21*t**5 + 35*t**4 + 35*t**3 + 21*t**2 + 7*t + 1,\n",
       " t**8 + 8*t**7 + 28*t**6 + 56*t**5 + 70*t**4 + 56*t**3 + 28*t**2 + 8*t + 1]"
      ]
     },
     "execution_count": 105,
     "metadata": {},
     "output_type": "execute_result"
    }
   ],
   "source": [
    "[ss[i]*factorial(i) for i in range(len(ss))]"
   ]
  },
  {
   "cell_type": "code",
   "execution_count": 106,
   "metadata": {},
   "outputs": [
    {
     "name": "stdout",
     "output_type": "stream",
     "text": [
      "[1]\n",
      "[1, 1]\n",
      "[1, 2, 1]\n",
      "[1, 3, 3, 1]\n",
      "[1, 4, 6, 4, 1]\n",
      "[1, 5, 10, 10, 5, 1]\n",
      "[1, 6, 15, 20, 15, 6, 1]\n",
      "[1, 7, 21, 35, 35, 21, 7, 1]\n",
      "[1, 8, 28, 56, 70, 56, 28, 8, 1]\n"
     ]
    }
   ],
   "source": [
    "for p in _: print (p.as_poly(t).all_coeffs())"
   ]
  },
  {
   "cell_type": "markdown",
   "metadata": {},
   "source": [
    "### Polynômes de Bell et nombres de Stirling\n",
    "\n",
    "Calculer les premiers polynômes de Bell $b_n(t)$, définis par la série génératrice exponentielle\n",
    "$$\n",
    "b(x,t)=e^{t(e^x−1)}=\\sum_{\\ge 0}b_n(t)\\frac{x^n}{n!}.\n",
    "$$\n",
    "(Ils sont souvent appelés polynômes de Touchard,cf. la [page](http://en.wikipedia.org/wiki/Touchard_polynomials) de Wikipedia).\n",
    "\n",
    "\n",
    "Leurs coefficients sont les *nombres de Stirling de seconde espèce* :\n",
    "    $$b_n(t)=\\sum_{k=0}^n S(n,k)t^k.$$\n",
    "    \n",
    "    \n",
    "Affichez le triangle **Stirling2** comme ci-dessus (puissances de $t$ en ordre croissant). \n",
    "\n",
    "On verra en cours leur interprétation combinatoire.\n",
    "\n",
    "Les nombres de Stirling de première espèce $s(n,k)$ sont les coefficients des polynômes \n",
    "$$(t)_n = t(t-1)\\cdots (t-n+1)$$\n",
    "dont la série génératrice exponentielle est\n",
    "$$ (1+x)^t = \\sum_{n\\ge 0}{t\\choose n} = \\sum_{n\\ge 0}(t)_n\\frac{x^n}{n!}.$$\n",
    "Affichez le triangle **Stirling1**.\n"
   ]
  },
  {
   "cell_type": "code",
   "execution_count": 107,
   "metadata": {},
   "outputs": [
    {
     "data": {
      "text/latex": [
       "$\\displaystyle \\operatorname{Poly}{\\left( \\left(\\frac{t^{8}}{40320} + \\frac{t^{7}}{1440} + \\frac{19 t^{6}}{2880} + \\frac{5 t^{5}}{192} + \\frac{27 t^{4}}{640} + \\frac{23 t^{3}}{960} + \\frac{127 t^{2}}{40320} + \\frac{t}{40320}\\right) x^{8} + \\left(\\frac{t^{7}}{5040} + \\frac{t^{6}}{240} + \\frac{t^{5}}{36} + \\frac{5 t^{4}}{72} + \\frac{43 t^{3}}{720} + \\frac{t^{2}}{80} + \\frac{t}{5040}\\right) x^{7} + \\left(\\frac{t^{6}}{720} + \\frac{t^{5}}{48} + \\frac{13 t^{4}}{144} + \\frac{t^{3}}{8} + \\frac{31 t^{2}}{720} + \\frac{t}{720}\\right) x^{6} + \\left(\\frac{t^{5}}{120} + \\frac{t^{4}}{12} + \\frac{5 t^{3}}{24} + \\frac{t^{2}}{8} + \\frac{t}{120}\\right) x^{5} + \\left(\\frac{t^{4}}{24} + \\frac{t^{3}}{4} + \\frac{7 t^{2}}{24} + \\frac{t}{24}\\right) x^{4} + \\left(\\frac{t^{3}}{6} + \\frac{t^{2}}{2} + \\frac{t}{6}\\right) x^{3} + \\left(\\frac{t^{2}}{2} + \\frac{t}{2}\\right) x^{2} + t x + 1, x, domain=\\mathbb{Q}\\left[t\\right] \\right)}$"
      ],
      "text/plain": [
       "Poly((t**8/40320 + t**7/1440 + 19*t**6/2880 + 5*t**5/192 + 27*t**4/640 + 23*t**3/960 + 127*t**2/40320 + t/40320)*x**8 + (t**7/5040 + t**6/240 + t**5/36 + 5*t**4/72 + 43*t**3/720 + t**2/80 + t/5040)*x**7 + (t**6/720 + t**5/48 + 13*t**4/144 + t**3/8 + 31*t**2/720 + t/720)*x**6 + (t**5/120 + t**4/12 + 5*t**3/24 + t**2/8 + t/120)*x**5 + (t**4/24 + t**3/4 + 7*t**2/24 + t/24)*x**4 + (t**3/6 + t**2/2 + t/6)*x**3 + (t**2/2 + t/2)*x**2 + t*x + 1, x, domain='QQ[t]')"
      ]
     },
     "execution_count": 107,
     "metadata": {},
     "output_type": "execute_result"
    }
   ],
   "source": [
    "#Polynômes de Bell\n",
    "poly_bell = exp(t*(exp(x) - 1))\n",
    "pb = series(poly_bell,x,0,9).removeO().as_poly(x); pb"
   ]
  },
  {
   "cell_type": "code",
   "execution_count": 108,
   "metadata": {},
   "outputs": [
    {
     "data": {
      "text/plain": [
       "[1,\n",
       " t,\n",
       " t**2/2 + t/2,\n",
       " t**3/6 + t**2/2 + t/6,\n",
       " t**4/24 + t**3/4 + 7*t**2/24 + t/24,\n",
       " t**5/120 + t**4/12 + 5*t**3/24 + t**2/8 + t/120,\n",
       " t**6/720 + t**5/48 + 13*t**4/144 + t**3/8 + 31*t**2/720 + t/720,\n",
       " t**7/5040 + t**6/240 + t**5/36 + 5*t**4/72 + 43*t**3/720 + t**2/80 + t/5040,\n",
       " t**8/40320 + t**7/1440 + 19*t**6/2880 + 5*t**5/192 + 27*t**4/640 + 23*t**3/960 + 127*t**2/40320 + t/40320]"
      ]
     },
     "execution_count": 108,
     "metadata": {},
     "output_type": "execute_result"
    }
   ],
   "source": [
    "pbb = pb.all_coeffs()[::-1]; pbb"
   ]
  },
  {
   "cell_type": "code",
   "execution_count": 109,
   "metadata": {},
   "outputs": [
    {
     "data": {
      "text/plain": [
       "[1,\n",
       " t,\n",
       " t**2 + t,\n",
       " t**3 + 3*t**2 + t,\n",
       " t**4 + 6*t**3 + 7*t**2 + t,\n",
       " t**5 + 10*t**4 + 25*t**3 + 15*t**2 + t,\n",
       " t**6 + 15*t**5 + 65*t**4 + 90*t**3 + 31*t**2 + t,\n",
       " t**7 + 21*t**6 + 140*t**5 + 350*t**4 + 301*t**3 + 63*t**2 + t,\n",
       " t**8 + 28*t**7 + 266*t**6 + 1050*t**5 + 1701*t**4 + 966*t**3 + 127*t**2 + t]"
      ]
     },
     "execution_count": 109,
     "metadata": {},
     "output_type": "execute_result"
    }
   ],
   "source": [
    "[pbb[i]*factorial(i) for i in range(len(pbb))]"
   ]
  },
  {
   "cell_type": "code",
   "execution_count": 110,
   "metadata": {},
   "outputs": [
    {
     "name": "stdout",
     "output_type": "stream",
     "text": [
      "[1]\n",
      "[1, 0]\n",
      "[1, 1, 0]\n",
      "[1, 3, 1, 0]\n",
      "[1, 6, 7, 1, 0]\n",
      "[1, 10, 25, 15, 1, 0]\n",
      "[1, 15, 65, 90, 31, 1, 0]\n",
      "[1, 21, 140, 350, 301, 63, 1, 0]\n",
      "[1, 28, 266, 1050, 1701, 966, 127, 1, 0]\n"
     ]
    }
   ],
   "source": [
    "# Triangle de Stirling2\n",
    "for p in _: print (p.as_poly(t).all_coeffs())"
   ]
  },
  {
   "cell_type": "code",
   "execution_count": 111,
   "metadata": {},
   "outputs": [
    {
     "data": {
      "text/latex": [
       "$\\displaystyle \\operatorname{Poly}{\\left( \\left(\\frac{t^{8}}{40320} - \\frac{t^{7}}{1440} + \\frac{23 t^{6}}{2880} - \\frac{7 t^{5}}{144} + \\frac{967 t^{4}}{5760} - \\frac{469 t^{3}}{1440} + \\frac{363 t^{2}}{1120} - \\frac{t}{8}\\right) x^{8} + \\left(\\frac{t^{7}}{5040} - \\frac{t^{6}}{240} + \\frac{5 t^{5}}{144} - \\frac{7 t^{4}}{48} + \\frac{29 t^{3}}{90} - \\frac{7 t^{2}}{20} + \\frac{t}{7}\\right) x^{7} + \\left(\\frac{t^{6}}{720} - \\frac{t^{5}}{48} + \\frac{17 t^{4}}{144} - \\frac{5 t^{3}}{16} + \\frac{137 t^{2}}{360} - \\frac{t}{6}\\right) x^{6} + \\left(\\frac{t^{5}}{120} - \\frac{t^{4}}{12} + \\frac{7 t^{3}}{24} - \\frac{5 t^{2}}{12} + \\frac{t}{5}\\right) x^{5} + \\left(\\frac{t^{4}}{24} - \\frac{t^{3}}{4} + \\frac{11 t^{2}}{24} - \\frac{t}{4}\\right) x^{4} + \\left(\\frac{t^{3}}{6} - \\frac{t^{2}}{2} + \\frac{t}{3}\\right) x^{3} + \\left(\\frac{t^{2}}{2} - \\frac{t}{2}\\right) x^{2} + t x + 1, x, domain=\\mathbb{Q}\\left[t\\right] \\right)}$"
      ],
      "text/plain": [
       "Poly((t**8/40320 - t**7/1440 + 23*t**6/2880 - 7*t**5/144 + 967*t**4/5760 - 469*t**3/1440 + 363*t**2/1120 - t/8)*x**8 + (t**7/5040 - t**6/240 + 5*t**5/144 - 7*t**4/48 + 29*t**3/90 - 7*t**2/20 + t/7)*x**7 + (t**6/720 - t**5/48 + 17*t**4/144 - 5*t**3/16 + 137*t**2/360 - t/6)*x**6 + (t**5/120 - t**4/12 + 7*t**3/24 - 5*t**2/12 + t/5)*x**5 + (t**4/24 - t**3/4 + 11*t**2/24 - t/4)*x**4 + (t**3/6 - t**2/2 + t/3)*x**3 + (t**2/2 - t/2)*x**2 + t*x + 1, x, domain='QQ[t]')"
      ]
     },
     "execution_count": 111,
     "metadata": {},
     "output_type": "execute_result"
    }
   ],
   "source": [
    "#Polynomes de Stirling1\n",
    "stirling1 = (1 + x)**t\n",
    "s = series(stirling1,x,0,9).removeO().as_poly(x); s"
   ]
  },
  {
   "cell_type": "code",
   "execution_count": 112,
   "metadata": {},
   "outputs": [
    {
     "data": {
      "text/plain": [
       "[1,\n",
       " t,\n",
       " t**2/2 - t/2,\n",
       " t**3/6 - t**2/2 + t/3,\n",
       " t**4/24 - t**3/4 + 11*t**2/24 - t/4,\n",
       " t**5/120 - t**4/12 + 7*t**3/24 - 5*t**2/12 + t/5,\n",
       " t**6/720 - t**5/48 + 17*t**4/144 - 5*t**3/16 + 137*t**2/360 - t/6,\n",
       " t**7/5040 - t**6/240 + 5*t**5/144 - 7*t**4/48 + 29*t**3/90 - 7*t**2/20 + t/7,\n",
       " t**8/40320 - t**7/1440 + 23*t**6/2880 - 7*t**5/144 + 967*t**4/5760 - 469*t**3/1440 + 363*t**2/1120 - t/8]"
      ]
     },
     "execution_count": 112,
     "metadata": {},
     "output_type": "execute_result"
    }
   ],
   "source": [
    "ss = s.all_coeffs()[::-1]; ss"
   ]
  },
  {
   "cell_type": "code",
   "execution_count": 113,
   "metadata": {},
   "outputs": [
    {
     "data": {
      "text/plain": [
       "[1,\n",
       " t,\n",
       " t**2 - t,\n",
       " t**3 - 3*t**2 + 2*t,\n",
       " t**4 - 6*t**3 + 11*t**2 - 6*t,\n",
       " t**5 - 10*t**4 + 35*t**3 - 50*t**2 + 24*t,\n",
       " t**6 - 15*t**5 + 85*t**4 - 225*t**3 + 274*t**2 - 120*t,\n",
       " t**7 - 21*t**6 + 175*t**5 - 735*t**4 + 1624*t**3 - 1764*t**2 + 720*t,\n",
       " t**8 - 28*t**7 + 322*t**6 - 1960*t**5 + 6769*t**4 - 13132*t**3 + 13068*t**2 - 5040*t]"
      ]
     },
     "execution_count": 113,
     "metadata": {},
     "output_type": "execute_result"
    }
   ],
   "source": [
    "[ss[i]*factorial(i) for i in range(len(ss))]"
   ]
  },
  {
   "cell_type": "code",
   "execution_count": 114,
   "metadata": {},
   "outputs": [
    {
     "name": "stdout",
     "output_type": "stream",
     "text": [
      "[1]\n",
      "[1, 0]\n",
      "[1, -1, 0]\n",
      "[1, -3, 2, 0]\n",
      "[1, -6, 11, -6, 0]\n",
      "[1, -10, 35, -50, 24, 0]\n",
      "[1, -15, 85, -225, 274, -120, 0]\n",
      "[1, -21, 175, -735, 1624, -1764, 720, 0]\n",
      "[1, -28, 322, -1960, 6769, -13132, 13068, -5040, 0]\n"
     ]
    }
   ],
   "source": [
    "#Triangle de Stirling1\n",
    "for p in _: print (p.as_poly(t).all_coeffs())"
   ]
  },
  {
   "cell_type": "markdown",
   "metadata": {},
   "source": [
    "### Nombres et polynômes de Bernoulli\n",
    "\n",
    "Les polynômes de Bernoulli sont définis par la série génératreice exponentielle\n",
    "\n",
    "$$B(x,t)=\\sum_{n\\ge\n",
    "0}B_n(t)\\frac{x^n}{n!} = \\frac{xe^{tx}}{e^x-1}$$\n",
    "\n",
    "Calculez les premiers polynômes $B_n(t)$.\n",
    "\n",
    "Les *nombres de Bernoulli* sont les termes constants $B_n(0)$. Ils ne sont pas entiers (ni positifs).\n",
    "Affichez les 20 premiers, et consultez la [page](http://fr.wikipedia.org/wiki/Nombre_de_Bernoulli) qui leur est consacrée sur Wikipedia."
   ]
  },
  {
   "cell_type": "code",
   "execution_count": 115,
   "metadata": {},
   "outputs": [
    {
     "data": {
      "text/latex": [
       "$\\displaystyle \\operatorname{Poly}{\\left( \\left(\\frac{t^{19}}{121645100408832000} - \\frac{t^{18}}{12804747411456000} + \\frac{t^{17}}{4268249137152000} - \\frac{t^{15}}{941525544960000} + \\frac{t^{13}}{188305108992000} - \\frac{t^{11}}{48283361280000} + \\frac{t^{9}}{17382010060800} - \\frac{691 t^{7}}{6590678814720000} + \\frac{t^{5}}{8966909952000} - \\frac{3617 t^{3}}{64023737057280000} + \\frac{43867 t}{5109094217170944000}\\right) x^{19} + \\left(\\frac{t^{18}}{6402373705728000} - \\frac{t^{17}}{711374856192000} + \\frac{t^{16}}{251073478656000} - \\frac{t^{14}}{62768369664000} + \\frac{t^{12}}{14485008384000} - \\frac{t^{10}}{4389396480000} + \\frac{t^{8}}{1931334451200} - \\frac{691 t^{6}}{941525544960000} + \\frac{t^{4}}{1793381990400} - \\frac{3617 t^{2}}{21341245685760000} + \\frac{43867}{5109094217170944000}\\right) x^{18} + \\left(\\frac{t^{17}}{355687428096000} - \\frac{t^{16}}{41845579776000} + \\frac{t^{15}}{15692092416000} - \\frac{t^{13}}{4483454976000} + \\frac{t^{11}}{1207084032000} - \\frac{t^{9}}{438939648000} + \\frac{t^{7}}{241416806400} - \\frac{691 t^{5}}{156920924160000} + \\frac{t^{3}}{448345497600} - \\frac{3617 t}{10670622842880000}\\right) x^{17} + \\left(\\frac{t^{16}}{20922789888000} - \\frac{t^{15}}{2615348736000} + \\frac{t^{14}}{1046139494400} - \\frac{t^{12}}{344881152000} + \\frac{t^{10}}{109734912000} - \\frac{t^{8}}{48771072000} + \\frac{t^{6}}{34488115200} - \\frac{691 t^{4}}{31384184832000} + \\frac{t^{2}}{149448499200} - \\frac{3617}{10670622842880000}\\right) x^{16} + \\left(\\frac{t^{15}}{1307674368000} - \\frac{t^{14}}{174356582400} + \\frac{t^{13}}{74724249600} - \\frac{t^{11}}{28740096000} + \\frac{t^{9}}{10973491200} - \\frac{t^{7}}{6096384000} + \\frac{t^{5}}{5748019200} - \\frac{691 t^{3}}{7846046208000} + \\frac{t}{74724249600}\\right) x^{15} + \\left(\\frac{t^{14}}{87178291200} - \\frac{t^{13}}{12454041600} + \\frac{t^{12}}{5748019200} - \\frac{t^{10}}{2612736000} + \\frac{t^{8}}{1219276800} - \\frac{t^{6}}{870912000} + \\frac{t^{4}}{1149603840} - \\frac{691 t^{2}}{2615348736000} + \\frac{1}{74724249600}\\right) x^{14} + \\left(\\frac{t^{13}}{6227020800} - \\frac{t^{12}}{958003200} + \\frac{t^{11}}{479001600} - \\frac{t^{9}}{261273600} + \\frac{t^{7}}{152409600} - \\frac{t^{5}}{145152000} + \\frac{t^{3}}{287400960} - \\frac{691 t}{1307674368000}\\right) x^{13} + \\left(\\frac{t^{12}}{479001600} - \\frac{t^{11}}{79833600} + \\frac{t^{10}}{43545600} - \\frac{t^{8}}{29030400} + \\frac{t^{6}}{21772800} - \\frac{t^{4}}{29030400} + \\frac{t^{2}}{95800320} - \\frac{691}{1307674368000}\\right) x^{12} + \\left(\\frac{t^{11}}{39916800} - \\frac{t^{10}}{7257600} + \\frac{t^{9}}{4354560} - \\frac{t^{7}}{3628800} + \\frac{t^{5}}{3628800} - \\frac{t^{3}}{7257600} + \\frac{t}{47900160}\\right) x^{11} + \\left(\\frac{t^{10}}{3628800} - \\frac{t^{9}}{725760} + \\frac{t^{8}}{483840} - \\frac{t^{6}}{518400} + \\frac{t^{4}}{725760} - \\frac{t^{2}}{2419200} + \\frac{1}{47900160}\\right) x^{10} + \\left(\\frac{t^{9}}{362880} - \\frac{t^{8}}{80640} + \\frac{t^{7}}{60480} - \\frac{t^{5}}{86400} + \\frac{t^{3}}{181440} - \\frac{t}{1209600}\\right) x^{9} + \\left(\\frac{t^{8}}{40320} - \\frac{t^{7}}{10080} + \\frac{t^{6}}{8640} - \\frac{t^{4}}{17280} + \\frac{t^{2}}{60480} - \\frac{1}{1209600}\\right) x^{8} + \\left(\\frac{t^{7}}{5040} - \\frac{t^{6}}{1440} + \\frac{t^{5}}{1440} - \\frac{t^{3}}{4320} + \\frac{t}{30240}\\right) x^{7} + \\left(\\frac{t^{6}}{720} - \\frac{t^{5}}{240} + \\frac{t^{4}}{288} - \\frac{t^{2}}{1440} + \\frac{1}{30240}\\right) x^{6} + \\left(\\frac{t^{5}}{120} - \\frac{t^{4}}{48} + \\frac{t^{3}}{72} - \\frac{t}{720}\\right) x^{5} + \\left(\\frac{t^{4}}{24} - \\frac{t^{3}}{12} + \\frac{t^{2}}{24} - \\frac{1}{720}\\right) x^{4} + \\left(\\frac{t^{3}}{6} - \\frac{t^{2}}{4} + \\frac{t}{12}\\right) x^{3} + \\left(\\frac{t^{2}}{2} - \\frac{t}{2} + \\frac{1}{12}\\right) x^{2} + \\left(t - \\frac{1}{2}\\right) x + 1, x, domain=\\mathbb{Q}\\left[t\\right] \\right)}$"
      ],
      "text/plain": [
       "Poly((t**19/121645100408832000 - t**18/12804747411456000 + t**17/4268249137152000 - t**15/941525544960000 + t**13/188305108992000 - t**11/48283361280000 + t**9/17382010060800 - 691*t**7/6590678814720000 + t**5/8966909952000 - 3617*t**3/64023737057280000 + 43867*t/5109094217170944000)*x**19 + (t**18/6402373705728000 - t**17/711374856192000 + t**16/251073478656000 - t**14/62768369664000 + t**12/14485008384000 - t**10/4389396480000 + t**8/1931334451200 - 691*t**6/941525544960000 + t**4/1793381990400 - 3617*t**2/21341245685760000 + 43867/5109094217170944000)*x**18 + (t**17/355687428096000 - t**16/41845579776000 + t**15/15692092416000 - t**13/4483454976000 + t**11/1207084032000 - t**9/438939648000 + t**7/241416806400 - 691*t**5/156920924160000 + t**3/448345497600 - 3617*t/10670622842880000)*x**17 + (t**16/20922789888000 - t**15/2615348736000 + t**14/1046139494400 - t**12/344881152000 + t**10/109734912000 - t**8/48771072000 + t**6/34488115200 - 691*t**4/31384184832000 + t**2/149448499200 - 3617/10670622842880000)*x**16 + (t**15/1307674368000 - t**14/174356582400 + t**13/74724249600 - t**11/28740096000 + t**9/10973491200 - t**7/6096384000 + t**5/5748019200 - 691*t**3/7846046208000 + t/74724249600)*x**15 + (t**14/87178291200 - t**13/12454041600 + t**12/5748019200 - t**10/2612736000 + t**8/1219276800 - t**6/870912000 + t**4/1149603840 - 691*t**2/2615348736000 + 1/74724249600)*x**14 + (t**13/6227020800 - t**12/958003200 + t**11/479001600 - t**9/261273600 + t**7/152409600 - t**5/145152000 + t**3/287400960 - 691*t/1307674368000)*x**13 + (t**12/479001600 - t**11/79833600 + t**10/43545600 - t**8/29030400 + t**6/21772800 - t**4/29030400 + t**2/95800320 - 691/1307674368000)*x**12 + (t**11/39916800 - t**10/7257600 + t**9/4354560 - t**7/3628800 + t**5/3628800 - t**3/7257600 + t/47900160)*x**11 + (t**10/3628800 - t**9/725760 + t**8/483840 - t**6/518400 + t**4/725760 - t**2/2419200 + 1/47900160)*x**10 + (t**9/362880 - t**8/80640 + t**7/60480 - t**5/86400 + t**3/181440 - t/1209600)*x**9 + (t**8/40320 - t**7/10080 + t**6/8640 - t**4/17280 + t**2/60480 - 1/1209600)*x**8 + (t**7/5040 - t**6/1440 + t**5/1440 - t**3/4320 + t/30240)*x**7 + (t**6/720 - t**5/240 + t**4/288 - t**2/1440 + 1/30240)*x**6 + (t**5/120 - t**4/48 + t**3/72 - t/720)*x**5 + (t**4/24 - t**3/12 + t**2/24 - 1/720)*x**4 + (t**3/6 - t**2/4 + t/12)*x**3 + (t**2/2 - t/2 + 1/12)*x**2 + (t - 1/2)*x + 1, x, domain='QQ[t]')"
      ]
     },
     "execution_count": 115,
     "metadata": {},
     "output_type": "execute_result"
    }
   ],
   "source": [
    "#polynômes de Bernoulli\n",
    "bernoulli = (x*exp(t*x)/(exp(x) - 1))\n",
    "b = series(bernoulli,x,0,20).removeO().as_poly(x); b"
   ]
  },
  {
   "cell_type": "code",
   "execution_count": 116,
   "metadata": {},
   "outputs": [
    {
     "data": {
      "text/plain": [
       "[1,\n",
       " t - 1/2,\n",
       " t**2/2 - t/2 + 1/12,\n",
       " t**3/6 - t**2/4 + t/12,\n",
       " t**4/24 - t**3/12 + t**2/24 - 1/720,\n",
       " t**5/120 - t**4/48 + t**3/72 - t/720,\n",
       " t**6/720 - t**5/240 + t**4/288 - t**2/1440 + 1/30240,\n",
       " t**7/5040 - t**6/1440 + t**5/1440 - t**3/4320 + t/30240,\n",
       " t**8/40320 - t**7/10080 + t**6/8640 - t**4/17280 + t**2/60480 - 1/1209600,\n",
       " t**9/362880 - t**8/80640 + t**7/60480 - t**5/86400 + t**3/181440 - t/1209600,\n",
       " t**10/3628800 - t**9/725760 + t**8/483840 - t**6/518400 + t**4/725760 - t**2/2419200 + 1/47900160,\n",
       " t**11/39916800 - t**10/7257600 + t**9/4354560 - t**7/3628800 + t**5/3628800 - t**3/7257600 + t/47900160,\n",
       " t**12/479001600 - t**11/79833600 + t**10/43545600 - t**8/29030400 + t**6/21772800 - t**4/29030400 + t**2/95800320 - 691/1307674368000,\n",
       " t**13/6227020800 - t**12/958003200 + t**11/479001600 - t**9/261273600 + t**7/152409600 - t**5/145152000 + t**3/287400960 - 691*t/1307674368000,\n",
       " t**14/87178291200 - t**13/12454041600 + t**12/5748019200 - t**10/2612736000 + t**8/1219276800 - t**6/870912000 + t**4/1149603840 - 691*t**2/2615348736000 + 1/74724249600,\n",
       " t**15/1307674368000 - t**14/174356582400 + t**13/74724249600 - t**11/28740096000 + t**9/10973491200 - t**7/6096384000 + t**5/5748019200 - 691*t**3/7846046208000 + t/74724249600,\n",
       " t**16/20922789888000 - t**15/2615348736000 + t**14/1046139494400 - t**12/344881152000 + t**10/109734912000 - t**8/48771072000 + t**6/34488115200 - 691*t**4/31384184832000 + t**2/149448499200 - 3617/10670622842880000,\n",
       " t**17/355687428096000 - t**16/41845579776000 + t**15/15692092416000 - t**13/4483454976000 + t**11/1207084032000 - t**9/438939648000 + t**7/241416806400 - 691*t**5/156920924160000 + t**3/448345497600 - 3617*t/10670622842880000,\n",
       " t**18/6402373705728000 - t**17/711374856192000 + t**16/251073478656000 - t**14/62768369664000 + t**12/14485008384000 - t**10/4389396480000 + t**8/1931334451200 - 691*t**6/941525544960000 + t**4/1793381990400 - 3617*t**2/21341245685760000 + 43867/5109094217170944000,\n",
       " t**19/121645100408832000 - t**18/12804747411456000 + t**17/4268249137152000 - t**15/941525544960000 + t**13/188305108992000 - t**11/48283361280000 + t**9/17382010060800 - 691*t**7/6590678814720000 + t**5/8966909952000 - 3617*t**3/64023737057280000 + 43867*t/5109094217170944000]"
      ]
     },
     "execution_count": 116,
     "metadata": {},
     "output_type": "execute_result"
    }
   ],
   "source": [
    "bb = b.all_coeffs()[::-1]; bb"
   ]
  },
  {
   "cell_type": "code",
   "execution_count": 117,
   "metadata": {},
   "outputs": [
    {
     "data": {
      "text/plain": [
       "[1,\n",
       " t - 1/2,\n",
       " t**2 - t + 1/6,\n",
       " t**3 - 3*t**2/2 + t/2,\n",
       " t**4 - 2*t**3 + t**2 - 1/30,\n",
       " t**5 - 5*t**4/2 + 5*t**3/3 - t/6,\n",
       " t**6 - 3*t**5 + 5*t**4/2 - t**2/2 + 1/42,\n",
       " t**7 - 7*t**6/2 + 7*t**5/2 - 7*t**3/6 + t/6,\n",
       " t**8 - 4*t**7 + 14*t**6/3 - 7*t**4/3 + 2*t**2/3 - 1/30,\n",
       " t**9 - 9*t**8/2 + 6*t**7 - 21*t**5/5 + 2*t**3 - 3*t/10,\n",
       " t**10 - 5*t**9 + 15*t**8/2 - 7*t**6 + 5*t**4 - 3*t**2/2 + 5/66,\n",
       " t**11 - 11*t**10/2 + 55*t**9/6 - 11*t**7 + 11*t**5 - 11*t**3/2 + 5*t/6,\n",
       " t**12 - 6*t**11 + 11*t**10 - 33*t**8/2 + 22*t**6 - 33*t**4/2 + 5*t**2 - 691/2730,\n",
       " t**13 - 13*t**12/2 + 13*t**11 - 143*t**9/6 + 286*t**7/7 - 429*t**5/10 + 65*t**3/3 - 691*t/210,\n",
       " t**14 - 7*t**13 + 91*t**12/6 - 1001*t**10/30 + 143*t**8/2 - 1001*t**6/10 + 455*t**4/6 - 691*t**2/30 + 7/6,\n",
       " t**15 - 15*t**14/2 + 35*t**13/2 - 91*t**11/2 + 715*t**9/6 - 429*t**7/2 + 455*t**5/2 - 691*t**3/6 + 35*t/2,\n",
       " t**16 - 8*t**15 + 20*t**14 - 182*t**12/3 + 572*t**10/3 - 429*t**8 + 1820*t**6/3 - 1382*t**4/3 + 140*t**2 - 3617/510,\n",
       " t**17 - 17*t**16/2 + 68*t**15/3 - 238*t**13/3 + 884*t**11/3 - 2431*t**9/3 + 4420*t**7/3 - 23494*t**5/15 + 2380*t**3/3 - 3617*t/30,\n",
       " t**18 - 9*t**17 + 51*t**16/2 - 102*t**14 + 442*t**12 - 7293*t**10/5 + 3315*t**8 - 23494*t**6/5 + 3570*t**4 - 10851*t**2/10 + 43867/798,\n",
       " t**19 - 19*t**18/2 + 57*t**17/2 - 646*t**15/5 + 646*t**13 - 12597*t**11/5 + 20995*t**9/3 - 446386*t**7/35 + 13566*t**5 - 68723*t**3/10 + 43867*t/42]"
      ]
     },
     "execution_count": 117,
     "metadata": {},
     "output_type": "execute_result"
    }
   ],
   "source": [
    "[bb[i]*factorial(i) for i in range(len(bb))]"
   ]
  },
  {
   "cell_type": "code",
   "execution_count": 120,
   "metadata": {
    "scrolled": true
   },
   "outputs": [
    {
     "name": "stdout",
     "output_type": "stream",
     "text": [
      "1\n",
      "-1/2\n",
      "1/6\n",
      "0\n",
      "-1/30\n",
      "0\n",
      "1/42\n",
      "0\n",
      "-1/30\n",
      "0\n",
      "5/66\n",
      "0\n",
      "-691/2730\n",
      "0\n",
      "7/6\n",
      "0\n",
      "-3617/510\n",
      "0\n",
      "43867/798\n",
      "0\n"
     ]
    }
   ],
   "source": [
    "#Triangle de Bernoulli\n",
    "for p in _: print (p.as_poly(t).all_coeffs()[-1])"
   ]
  },
  {
   "cell_type": "code",
   "execution_count": null,
   "metadata": {},
   "outputs": [],
   "source": []
  }
 ],
 "metadata": {
  "kernelspec": {
   "display_name": "Python 3",
   "language": "python",
   "name": "python3"
  },
  "language_info": {
   "codemirror_mode": {
    "name": "ipython",
    "version": 3
   },
   "file_extension": ".py",
   "mimetype": "text/x-python",
   "name": "python",
   "nbconvert_exporter": "python",
   "pygments_lexer": "ipython3",
   "version": "3.8.3"
  }
 },
 "nbformat": 4,
 "nbformat_minor": 1
}
