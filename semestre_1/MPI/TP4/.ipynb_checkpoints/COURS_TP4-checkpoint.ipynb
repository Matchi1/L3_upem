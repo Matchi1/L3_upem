{
 "cells": [
  {
   "cell_type": "markdown",
   "metadata": {},
   "source": [
    "[Heap](https://fr.wikipedia.org/wiki/Algorithme_de_Heap )\n",
    "\n",
    "[Partition](http://igm.univ-mlv.fr/~jyt/L3_MPI4/Er_algo.pdf )"
   ]
  },
  {
   "cell_type": "code",
   "execution_count": 7,
   "metadata": {},
   "outputs": [
    {
     "data": {
      "text/latex": [
       "$\\displaystyle \\operatorname{Poly}{\\left( \\frac{2119}{5760} x^{8} + \\frac{103}{280} x^{7} + \\frac{53}{144} x^{6} + \\frac{11}{30} x^{5} + \\frac{3}{8} x^{4} + \\frac{1}{3} x^{3} + \\frac{1}{2} x^{2} + 1, x, domain=\\mathbb{Q} \\right)}$"
      ],
      "text/plain": [
       "Poly(2119/5760*x**8 + 103/280*x**7 + 53/144*x**6 + 11/30*x**5 + 3/8*x**4 + 1/3*x**3 + 1/2*x**2 + 1, x, domain='QQ')"
      ]
     },
     "execution_count": 7,
     "metadata": {},
     "output_type": "execute_result"
    }
   ],
   "source": [
    "from itertools import permutations\n",
    "from sympy import *\n",
    "\n",
    "var('x')\n",
    "deran = exp(-x)/(1 - x)\n",
    "deran = series(deran, x, 0, 9).removeO().as_poly(); deran"
   ]
  },
  {
   "cell_type": "code",
   "execution_count": 8,
   "metadata": {},
   "outputs": [
    {
     "data": {
      "text/plain": [
       "[1, 0, 1/2, 1/3, 3/8, 11/30, 53/144, 103/280, 2119/5760]"
      ]
     },
     "execution_count": 8,
     "metadata": {},
     "output_type": "execute_result"
    }
   ],
   "source": [
    "dd = deran.all_coeffs()[::-1]; dd"
   ]
  },
  {
   "cell_type": "code",
   "execution_count": 9,
   "metadata": {},
   "outputs": [
    {
     "data": {
      "text/plain": [
       "[1, 0, 1, 2, 9, 44, 265, 1854, 14833]"
      ]
     },
     "execution_count": 9,
     "metadata": {},
     "output_type": "execute_result"
    }
   ],
   "source": [
    "[dd[i] * factorial(i) for i in range(len(dd))]"
   ]
  },
  {
   "cell_type": "code",
   "execution_count": 10,
   "metadata": {},
   "outputs": [
    {
     "data": {
      "text/latex": [
       "$\\displaystyle \\operatorname{Poly}{\\left( \\frac{23}{224} x^{8} + \\frac{877}{5040} x^{7} + \\frac{203}{720} x^{6} + \\frac{13}{30} x^{5} + \\frac{5}{8} x^{4} + \\frac{5}{6} x^{3} + x^{2} + x + 1, x, domain=\\mathbb{Q} \\right)}$"
      ],
      "text/plain": [
       "Poly(23/224*x**8 + 877/5040*x**7 + 203/720*x**6 + 13/30*x**5 + 5/8*x**4 + 5/6*x**3 + x**2 + x + 1, x, domain='QQ')"
      ]
     },
     "execution_count": 10,
     "metadata": {},
     "output_type": "execute_result"
    }
   ],
   "source": [
    "bell = exp(exp(x) - 1)\n",
    "bell = series(bell, x, 0, 9).removeO().as_poly(); bell"
   ]
  },
  {
   "cell_type": "code",
   "execution_count": 12,
   "metadata": {},
   "outputs": [
    {
     "data": {
      "text/plain": [
       "[1, 1, 1, 5/6, 5/8, 13/30, 203/720, 877/5040, 23/224]"
      ]
     },
     "execution_count": 12,
     "metadata": {},
     "output_type": "execute_result"
    }
   ],
   "source": [
    "bb = bell.all_coeffs()[::-1]; bb"
   ]
  },
  {
   "cell_type": "code",
   "execution_count": 13,
   "metadata": {},
   "outputs": [
    {
     "data": {
      "text/plain": [
       "[1, 1, 2, 5, 15, 52, 203, 877, 4140]"
      ]
     },
     "execution_count": 13,
     "metadata": {},
     "output_type": "execute_result"
    }
   ],
   "source": [
    "[bb[i] * factorial(i) for i in range(len(bb))]"
   ]
  },
  {
   "cell_type": "code",
   "execution_count": 14,
   "metadata": {},
   "outputs": [
    {
     "data": {
      "text/latex": [
       "$\\displaystyle \\operatorname{Poly}{\\left( \\frac{23}{224} x^{8} + \\frac{877}{5040} x^{7} + \\frac{203}{720} x^{6} + \\frac{13}{30} x^{5} + \\frac{5}{8} x^{4} + \\frac{5}{6} x^{3} + x^{2} + x + 1, x, domain=\\mathbb{Q} \\right)}$"
      ],
      "text/plain": [
       "Poly(23/224*x**8 + 877/5040*x**7 + 203/720*x**6 + 13/30*x**5 + 5/8*x**4 + 5/6*x**3 + x**2 + x + 1, x, domain='QQ')"
      ]
     },
     "execution_count": 14,
     "metadata": {},
     "output_type": "execute_result"
    }
   ],
   "source": [
    "euler = exp(exp(x) - 1)\n",
    "euler = series(euler, x, 0, 9).removeO().as_poly(); bell"
   ]
  },
  {
   "cell_type": "code",
   "execution_count": 15,
   "metadata": {},
   "outputs": [
    {
     "data": {
      "text/plain": [
       "[1, 1, 1, 5/6, 5/8, 13/30, 203/720, 877/5040, 23/224]"
      ]
     },
     "execution_count": 15,
     "metadata": {},
     "output_type": "execute_result"
    }
   ],
   "source": [
    "ee = euler.all_coeffs()[::-1]; ee"
   ]
  },
  {
   "cell_type": "code",
   "execution_count": null,
   "metadata": {},
   "outputs": [],
   "source": [
    "[ee[i] * factorial(i) for i in range(len(ee))]"
   ]
  }
 ],
 "metadata": {
  "kernelspec": {
   "display_name": "Python 3",
   "language": "python",
   "name": "python3"
  },
  "language_info": {
   "codemirror_mode": {
    "name": "ipython",
    "version": 3
   },
   "file_extension": ".py",
   "mimetype": "text/x-python",
   "name": "python",
   "nbconvert_exporter": "python",
   "pygments_lexer": "ipython3",
   "version": "3.8.3"
  }
 },
 "nbformat": 4,
 "nbformat_minor": 4
}
